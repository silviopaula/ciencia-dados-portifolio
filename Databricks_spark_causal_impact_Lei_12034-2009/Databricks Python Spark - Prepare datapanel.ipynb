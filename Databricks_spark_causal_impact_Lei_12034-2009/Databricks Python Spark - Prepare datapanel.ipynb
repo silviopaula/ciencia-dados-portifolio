{
 "cells": [
  {
   "cell_type": "markdown",
   "metadata": {
    "application/vnd.databricks.v1+cell": {
     "cellMetadata": {},
     "inputWidgets": {},
     "nuid": "e89d53c5-a419-40b2-a86d-9d533324a8b8",
     "showTitle": false,
     "tableResultSettingsMap": {},
     "title": ""
    }
   },
   "source": [
    "\n",
    "#  \"ANÁLISE DO IMPACTO CAUSAL DA LEI Nº 12.034/2009 EM ELEIÇÕES BRASILEIRAS\"\n",
    "\n",
    "---------\n",
    "\n",
    "###   Objetivo\n",
    "\n",
    "**Este notebook tem como objetivo somente preparar o dataframe para análises**\n",
    "\n",
    "Este estudo avalia se a Lei nº 12.034/2009, que exige 30% de candidaturas femininas, aumentou a particpação de mulheres para, vereadora, deputada estadual e distrital. Usando dados do TSE e modelos econométricos de inferência causal, compara o desempenho de mulheres antes e depois da lei. A contribuição central é mostrar evidências sobre os efeitos da cota e discutir a possível ampliação para eleições majoritárias.\n",
    "\n",
    "### O que é a \"Minirreforma Eleitoral\" de 2009?\n",
    "\n",
    "A \"minirreforma eleitoral\" de 2009, estabelecida pela Lei 12.034/2009, alterou diversas leis eleitorais brasileiras. O ponto mais importante dela é a mudança na regra das **cotas de gênero para candidaturas proporcionais**.\n",
    "\n",
    "---------\n",
    "\n",
    "### A regra da cota de gênero (Art. 10, §3º da Lei das Eleições)\n",
    "\n",
    "Desde 2009, a lei exige que nas eleições proporcionais (deputado federal, estadual/distrital e vereador), cada partido ou federação preencha um mínimo de **30%** e um máximo de **70%** de candidaturas para cada gênero.\n",
    "\n",
    "Antes da reforma, a lei usava o termo \"reservar\" vagas. A mudança para \"preencher\" eliminou a brecha que permitia aos partidos apenas separar as vagas no papel sem efetivamente lançar candidatas.\n",
    "\n",
    "---------\n",
    "\n",
    "### Escopo da lei\n",
    "\n",
    "* **Aplica-se a:** eleições proporcionais (deputado federal, estadual/distrital e vereador).\n",
    "* **Não se aplica a:** eleições majoritárias (presidente, governador, prefeito, senador).\n",
    "\n",
    "---------\n",
    "\n",
    "### Como a Justiça Eleitoral fiscaliza e pune\n",
    "\n",
    "A verificação do cumprimento da cota é feita por **partido ou federação**. Se a regra não for seguida, o **Demonstrativo de Regularidade de Atos Partidários (DRAP)** pode ser indeferido, prejudicando todos os registros individuais de candidaturas da chapa.\n",
    "\n",
    "Quando há **fraude à cota** (as chamadas \"candidaturas laranja\"), como candidatas que não recebem votos, não têm campanha ou financiamento, a Justiça Eleitoral pode tomar as seguintes medidas, conforme a Súmula 73 do Tribunal Superior Eleitoral (TSE):\n",
    "\n",
    "* Cassação do DRAP e dos diplomas dos eleitos.\n",
    "* Anulação dos votos de toda a chapa, com recálculo dos quocientes eleitorais.\n",
    "* Declaração de inelegibilidade para os responsáveis pela fraude.\n",
    "\n",
    "---------\n",
    "\n",
    "### Observação adicional\n",
    "\n",
    "O Tribunal Superior Eleitoral (TSE) e o Supremo Tribunal Federal (STF) também vincularam a distribuição do **fundo eleitoral** e do **tempo de rádio/TV** às mesmas proporções de gênero, exigindo que no mínimo 30% desses recursos sejam destinados às candidaturas femininas, caso o partido tenha o mínimo de 30% de candidatas.\n",
    "\n",
    "---------\n",
    "\n",
    "### Dados google BigQuery da Base dos dados (BD)\n",
    "https://console.cloud.google.com/bigquery?p=basedosdados&d=br_tse_eleicoes&t=candidatos&page=table&inv=1&invt=Ab5S-w&project=argon-magnet-465219-g1&ws=!1m5!1m4!4m3!1sbasedosdados!2sbr_tse_eleicoes!3scandidatos"
   ]
  },
  {
   "cell_type": "markdown",
   "metadata": {
    "application/vnd.databricks.v1+cell": {
     "cellMetadata": {},
     "inputWidgets": {},
     "nuid": "0a52b29b-f062-4209-a8aa-0aad966c159f",
     "showTitle": false,
     "tableResultSettingsMap": {},
     "title": ""
    }
   },
   "source": [
    "### Importar bibliotecas"
   ]
  },
  {
   "cell_type": "code",
   "execution_count": null,
   "metadata": {},
   "outputs": [],
   "source": [
    "# %pip install pyspark"
   ]
  },
  {
   "cell_type": "code",
   "execution_count": null,
   "metadata": {
    "application/vnd.databricks.v1+cell": {
     "cellMetadata": {
      "byteLimit": 2048000,
      "rowLimit": 10000
     },
     "inputWidgets": {},
     "nuid": "6d211c03-5927-41b0-8ee5-fe135815e35b",
     "showTitle": false,
     "tableResultSettingsMap": {},
     "title": ""
    }
   },
   "outputs": [
    {
     "name": "stdout",
     "output_type": "stream",
     "text": [
      "Note: you may need to restart the kernel to use updated packages.\n"
     ]
    }
   ],
   "source": [
    "# Importar bibliotecas\n",
    "from pyspark.sql.functions import (\n",
    "    when,                   # expressão condicional (equivalente a CASE WHEN)\n",
    "    lit,                    # cria um literal/constante como coluna\n",
    "    regexp_replace,         # substitui texto usando expressão regular (regex)\n",
    "    lower,                  # converte strings para minúsculas\n",
    "    split,                  # divide string em array pelo separador\n",
    "    trim,                   # remove espaços no início e no fim da string\n",
    "    col,                    # referencia uma coluna pelo nome\n",
    "    coalesce,               # primeiro valor não nulo entre várias colunas\n",
    "    isnan,                  # verifica NaN (numéricos); não confundir com NULL\n",
    "    countDistinct,          # conta valores distintos\n",
    "    dense_rank,             # ranking “sem buracos” (usa Window para ordenar)\n",
    "    expr,                   # escreve expressões SQL diretamente\n",
    "    last,\n",
    "    col,\n",
    "    count as spark_count,   # contagem de linhas (agg)\n",
    "    mean as spark_mean,     # média (agg)\n",
    "    min as spark_min,       # mínimo (agg)\n",
    "    max as spark_max,       # máximo (agg)\n",
    "    stddev as spark_sd,     # desvio-padrão amostral (agg)\n",
    "    sum as spark_sum        # soma (agg)\n",
    ")\n",
    "\n",
    "from pyspark.sql.window import Window     # Define \"janelas\" para cálculos sobre partições (rank, row_number, etc.)\n",
    "from pyspark.sql.types import StringType  # Tipo de dado string para schemas/colunas em DataFrames Spark\n",
    "import plotly.express as px               # Biblioteca de visualização rápida e simples (gráficos interativos)\n",
    "from pyspark.sql import functions as F    # Importa funções SQL do Spark com alias F (ex: F.col, F.sum)\n",
    "from plotly.subplots import make_subplots # Cria layouts com múltiplos gráficos/plots no Plotly\n",
    "import plotly.graph_objects as go         # Criação detalhada de gráficos com objetos (mais flexível que px)\n",
    "import pandas as pd                       # Biblioteca para manipulação de dados em DataFrames no Python\n",
    "from pyspark.sql.types import IntegerType # Importa conversor de coluna pára tipo interger\n",
    "import numpy as np\n",
    "from math import isnan\n",
    "from scipy.stats import norm\n",
    "from IPython.display import HTML, display\n",
    "#%pip freeze > requirements.txt"
   ]
  },
  {
   "cell_type": "markdown",
   "metadata": {
    "application/vnd.databricks.v1+cell": {
     "cellMetadata": {},
     "inputWidgets": {},
     "nuid": "22fa5e49-aa62-4af9-8ab5-702f0b00b762",
     "showTitle": false,
     "tableResultSettingsMap": {},
     "title": ""
    }
   },
   "source": [
    "### Importar dados"
   ]
  },
  {
   "cell_type": "code",
   "execution_count": 0,
   "metadata": {
    "application/vnd.databricks.v1+cell": {
     "cellMetadata": {
      "byteLimit": 2048000,
      "rowLimit": 10000
     },
     "inputWidgets": {},
     "nuid": "980e471f-41ca-41c0-a7bf-3c9fdcac9104",
     "showTitle": false,
     "tableResultSettingsMap": {},
     "title": ""
    }
   },
   "outputs": [],
   "source": [
    "# Importar tabela dos candidatos eleitos - TSE\n",
    "df_candidatos_eleitos = spark.sql(\"SELECT * FROM workspace.avaliacao_lei_tse.candidatos_eleitos\")\n",
    "\n",
    "# Importar tabela dos candidatos - TSE\n",
    "df_candidatos = spark.sql(\"SELECT * FROM workspace.avaliacao_lei_tse.candidatos\")\n",
    "\n",
    "# Importar tabela de genero faltantes\n",
    "missing_gender_human_input = spark.sql(\"SELECT * FROM workspace.avaliacao_lei_tse.missing_gender_human_input\")\n",
    "\n",
    "# Importar tabela das variáveis explicativas \n",
    "df_explicativas = spark.sql(\"SELECT * FROM workspace.avaliacao_lei_tse.explicativas\")\n",
    "\n",
    "# visualizar\n",
    "# display(df_explicativas, df_candidatos, df_candidatos_eleitos, missing_gender_human_input)\n"
   ]
  },
  {
   "cell_type": "markdown",
   "metadata": {
    "application/vnd.databricks.v1+cell": {
     "cellMetadata": {},
     "inputWidgets": {},
     "nuid": "7a389151-1c9f-4f4c-9486-592a0e32d6bc",
     "showTitle": false,
     "tableResultSettingsMap": {},
     "title": ""
    }
   },
   "source": [
    "### Filtrar df dos candidatos eleitos e fazer join com o df candidatos"
   ]
  },
  {
   "cell_type": "code",
   "execution_count": 0,
   "metadata": {
    "application/vnd.databricks.v1+cell": {
     "cellMetadata": {
      "byteLimit": 2048000,
      "rowLimit": 10000
     },
     "inputWidgets": {},
     "nuid": "5cb014f6-4dc1-44ef-b0b4-d4683edc788b",
     "showTitle": false,
     "tableResultSettingsMap": {},
     "title": ""
    }
   },
   "outputs": [
    {
     "data": {
      "text/plain": [
       "DataFrame[resultado: string, count: bigint]"
      ]
     },
     "metadata": {},
     "output_type": "display_data"
    }
   ],
   "source": [
    "# Renomear cedo para evitar o uso de crase em colunas com espaço\n",
    "if \"eleitores total\" in df_explicativas.columns:\n",
    "    df_explicativas = df_explicativas.withColumnRenamed(\"eleitores total\", \"eleitores_total\")\n",
    "\n",
    "# Eleitos: chave robusta e join\n",
    "df_eleitos = (\n",
    "    df_candidatos_eleitos\n",
    "    .filter((col(\"ano\") >= 1992) & col(\"resultado\").rlike(\"(?i)^eleit\"))\n",
    "    .select(\n",
    "        col(\"ano\").cast(\"int\").alias(\"ano\"),\n",
    "        F.upper(F.trim(col(\"sigla_uf\"))).alias(\"sigla_uf_eleito\"),\n",
    "        trim(col(\"cargo\")).alias(\"cargo_eleito\"),\n",
    "        trim(col(\"titulo_eleitoral_candidato\")).alias(\"titulo_eleitoral\"),\n",
    "        lit(\"eleito\").alias(\"resultado\"),\n",
    "        col(\"votos\")\n",
    "    )\n",
    "    .dropDuplicates([\"titulo_eleitoral\", \"ano\", \"sigla_uf_eleito\", \"cargo_eleito\"])\n",
    ")\n",
    "\n",
    "df_candidatos = (\n",
    "    df_candidatos\n",
    "    .withColumn(\"ano\", col(\"ano\").cast(\"int\"))\n",
    "    .withColumn(\"sigla_uf\", F.upper(F.trim(F.regexp_replace(F.col(\"sigla_uf\"), \"\\u00A0\", \" \"))))\n",
    "    .withColumn(\"sigla_uf_nascimento\", F.upper(F.trim(F.regexp_replace(F.col(\"sigla_uf_nascimento\"), \"\\u00A0\", \" \"))))\n",
    "    .withColumn(\"titulo_eleitoral\", trim(col(\"titulo_eleitoral\")))\n",
    ")\n",
    "\n",
    "# join pelo par (ano, titulo_eleitoral) — chave prática no universo TSE\n",
    "df_candidatos = (\n",
    "    df_candidatos\n",
    "    .join(df_eleitos.select(\"ano\", \"titulo_eleitoral\", \"resultado\"), on=[\"ano\",\"titulo_eleitoral\"], how=\"left\")\n",
    "    .fillna({\"resultado\": \"nao_eleito\"})\n",
    ")\n",
    "\n",
    "# Mostra a contagem de eleitos x não eleitos\n",
    "display(df_candidatos.groupBy(\"resultado\").count())"
   ]
  },
  {
   "cell_type": "markdown",
   "metadata": {
    "application/vnd.databricks.v1+cell": {
     "cellMetadata": {},
     "inputWidgets": {},
     "nuid": "6c0f862c-d931-488d-baf8-28ad1eaf33a1",
     "showTitle": false,
     "tableResultSettingsMap": {},
     "title": ""
    }
   },
   "source": [
    "---------\n",
    "\n",
    "### Correção dos valores ausentes no campo `genero`\n",
    "\n",
    "- Na eleição de **1996**, observou-se que **100%** dos registros de candidatos estavam sem informação de gênero.\n",
    "- Para corrigir esses valores, adotamos uma estratégia de **propagação por primeiro nome**:\n",
    "\n",
    "  1. **Gerar amostra base:** criar um conjunto auxiliar contendo apenas o **primeiro nome** do candidato e seu gênero, considerando somente registros onde o gênero está preenchido.\n",
    "  2. **Remover duplicados:** manter apenas combinações únicas de primeiro nome e gênero.\n",
    "  3. **Aplicar preenchimento:** realizar um `join` entre a base original e essa amostra pela chave *primeiro nome*. Assim, por exemplo, uma candidata chamada **Maria** identificada como feminina em 2000 fornecerá essa informação para preencher o gênero de outras \"Marias\" que estejam com o campo ausente.\n",
    "- Esse método permite reduzir drasticamente os valores faltantes, aproveitando padrões consistentes entre nome e gênero.\n"
   ]
  },
  {
   "cell_type": "markdown",
   "metadata": {
    "application/vnd.databricks.v1+cell": {
     "cellMetadata": {},
     "inputWidgets": {},
     "nuid": "bd92d79f-3e3e-4142-bbd6-54b1f1b0de77",
     "showTitle": false,
     "tableResultSettingsMap": {},
     "title": ""
    }
   },
   "source": [
    "### Inferir gênero faltante a partir do primeiro nome"
   ]
  },
  {
   "cell_type": "code",
   "execution_count": 0,
   "metadata": {
    "application/vnd.databricks.v1+cell": {
     "cellMetadata": {
      "byteLimit": 2048000,
      "rowLimit": 10000
     },
     "inputWidgets": {},
     "nuid": "d72ebbdb-8473-4bb7-811e-74b2a65ff651",
     "showTitle": false,
     "tableResultSettingsMap": {},
     "title": ""
    }
   },
   "outputs": [
    {
     "data": {
      "text/plain": [
       "DataFrame[primeiro_nome: string, genero_inferido: string]"
      ]
     },
     "metadata": {},
     "output_type": "display_data"
    }
   ],
   "source": [
    "df_filtrado = (\n",
    "    df_candidatos\n",
    "    .withColumn(\"primeiro_nome\", lower(split(trim(col(\"nome\")), \" \").getItem(0)))\n",
    "    .withColumn(\"genero_l\", lower(col(\"genero\")))\n",
    "    .filter(\n",
    "        (col(\"primeiro_nome\").isNotNull()) & (col(\"primeiro_nome\") != \"\") &\n",
    "        (col(\"genero_l\").isNotNull()) & (col(\"genero_l\") != \"\")\n",
    "    )\n",
    ")\n",
    "\n",
    "df_contagem = (\n",
    "    df_filtrado.groupBy(\"primeiro_nome\", \"genero_l\")\n",
    "    .agg(spark_count(\"*\").alias(\"n\"))\n",
    "    .withColumn(\"p\", col(\"n\") / spark_sum(\"n\").over(Window.partitionBy(\"primeiro_nome\")))\n",
    ")\n",
    "\n",
    "df_top = (\n",
    "    df_contagem\n",
    "    .withColumn(\"rank\", expr(\"row_number() over (partition by primeiro_nome order by p desc)\"))\n",
    "    .filter(col(\"rank\") == 1)\n",
    ")\n",
    "\n",
    "amostra_genero = df_top.select(\"primeiro_nome\", col(\"genero_l\").alias(\"genero_inferido\"))\n",
    "\n",
    "# visualizar\n",
    "display(amostra_genero)"
   ]
  },
  {
   "cell_type": "code",
   "execution_count": 0,
   "metadata": {
    "application/vnd.databricks.v1+cell": {
     "cellMetadata": {
      "byteLimit": 2048000,
      "rowLimit": 10000
     },
     "inputWidgets": {},
     "nuid": "729e9ae7-9188-4080-ba44-1c3aa94529f0",
     "showTitle": false,
     "tableResultSettingsMap": {},
     "title": ""
    }
   },
   "outputs": [
    {
     "name": "stdout",
     "output_type": "stream",
     "text": [
      "{'faltantes_genero_antes': 12537, 'faltantes_genero_depois': 0}\n"
     ]
    }
   ],
   "source": [
    "# Imputar por primeiro nome\n",
    "df_genero_fix = (\n",
    "    df_candidatos\n",
    "    .withColumn(\"primeiro_nome\", lower(split(trim(col(\"nome\")), \" \").getItem(0)))\n",
    "    .join(amostra_genero, on=\"primeiro_nome\", how=\"left\")\n",
    "    .withColumn(\n",
    "        \"genero\",\n",
    "        when((col(\"genero\").isNull()) | (trim(col(\"genero\")) == \"\"), col(\"genero_inferido\")).otherwise(col(\"genero\"))\n",
    "    )\n",
    "    .drop(\"genero_inferido\", \"primeiro_nome\")\n",
    ")\n",
    "\n",
    "# (Opcional) Aplicar input humano por nome completo\n",
    "human_input = (\n",
    "    missing_gender_human_input\n",
    "    .select(\n",
    "        trim(regexp_replace(col(\"nome\"), \"\\u00A0\", \" \")).alias(\"nome_norm\"),\n",
    "        lower(col(\"genero_input_humano\")).alias(\"genero_input_humano\")\n",
    "    )\n",
    ")\n",
    "\n",
    "df_genero_fix = (\n",
    "    df_genero_fix\n",
    "    .withColumn(\"nome_norm\", trim(regexp_replace(col(\"nome\"), \"\\u00A0\", \" \")))\n",
    "    .join(human_input, on=\"nome_norm\", how=\"left\")\n",
    "    .withColumn(\n",
    "        \"genero\",\n",
    "        when((col(\"genero\").isNull()) | (trim(col(\"genero\")) == \"\"), col(\"genero_input_humano\")).otherwise(col(\"genero\"))\n",
    "    )\n",
    "    .drop(\"genero_input_humano\", \"nome_norm\")\n",
    ")\n",
    "\n",
    "# Checagem de faltantes de gênero\n",
    "antes  = df_candidatos.filter((col(\"genero\").isNull()) | (trim(col(\"genero\")) == \"\")).count()\n",
    "depois = df_genero_fix.filter((col(\"genero\").isNull()) | (trim(col(\"genero\")) == \"\")).count()\n",
    "print({\"faltantes_genero_antes\": antes, \"faltantes_genero_depois\": depois})\n",
    "\n",
    "# Remover dataframes auxiliares criados\n",
    "del antes, depois, amostra_genero, df_contagem, df_filtrado, df_top, human_input, missing_gender_human_input"
   ]
  },
  {
   "cell_type": "markdown",
   "metadata": {
    "application/vnd.databricks.v1+cell": {
     "cellMetadata": {},
     "inputWidgets": {},
     "nuid": "a7492b1f-6533-477d-8dae-a061b36ee0b0",
     "showTitle": false,
     "tableResultSettingsMap": {},
     "title": ""
    }
   },
   "source": [
    "### Gerar coluna Regiões"
   ]
  },
  {
   "cell_type": "code",
   "execution_count": 0,
   "metadata": {
    "application/vnd.databricks.v1+cell": {
     "cellMetadata": {
      "byteLimit": 2048000,
      "rowLimit": 10000
     },
     "inputWidgets": {},
     "nuid": "1df5c5b5-e020-4648-9a76-8382647879a6",
     "showTitle": false,
     "tableResultSettingsMap": {},
     "title": ""
    }
   },
   "outputs": [],
   "source": [
    "# UF → Região + validações\n",
    "mapeamento_regioes = {\n",
    "    \"AC\":\"Norte\",\"AM\":\"Norte\",\"AP\":\"Norte\",\"PA\":\"Norte\",\"RO\":\"Norte\",\"RR\":\"Norte\",\"TO\":\"Norte\",\n",
    "    \"AL\":\"Nordeste\",\"BA\":\"Nordeste\",\"CE\":\"Nordeste\",\"MA\":\"Nordeste\",\"PB\":\"Nordeste\",\n",
    "    \"PE\":\"Nordeste\",\"PI\":\"Nordeste\",\"RN\":\"Nordeste\",\"SE\":\"Nordeste\",\n",
    "    \"DF\":\"Centro-Oeste\",\"GO\":\"Centro-Oeste\",\"MT\":\"Centro-Oeste\",\"MS\":\"Centro-Oeste\",\n",
    "    \"ES\":\"Sudeste\",\"MG\":\"Sudeste\",\"RJ\":\"Sudeste\",\"SP\":\"Sudeste\",\n",
    "    \"PR\":\"Sul\",\"RS\":\"Sul\",\"SC\":\"Sul\"\n",
    "}\n",
    "valid_ufs = set(mapeamento_regioes.keys())\n",
    "\n",
    "# Preencher sigla_uf faltante com UF de nascimento\n",
    "df_genero_fix = df_genero_fix.withColumn(\"sigla_uf\", coalesce(col(\"sigla_uf\"), col(\"sigla_uf_nascimento\")))\n",
    "\n",
    "# Validar UFs\n",
    "ufs_ruins = df_genero_fix.filter(~col(\"sigla_uf\").isin(list(valid_ufs))).select(\"sigla_uf\").distinct()\n",
    "if ufs_ruins.count() > 0:\n",
    "    raise ValueError(f\"UF(s) inesperada(s): {ufs_ruins.toPandas()['sigla_uf'].tolist()}\")\n",
    "\n",
    "mapping_expr = F.create_map([F.lit(x) for kv in mapeamento_regioes.items() for x in kv])\n",
    "df_genero_uf_fix = df_genero_fix.withColumn(\"regioes\", mapping_expr[col(\"sigla_uf\")])\n"
   ]
  },
  {
   "cell_type": "markdown",
   "metadata": {
    "application/vnd.databricks.v1+cell": {
     "cellMetadata": {},
     "inputWidgets": {},
     "nuid": "2e2d7fac-b01b-4ec1-bd6c-9abe539ea96c",
     "showTitle": false,
     "tableResultSettingsMap": {},
     "title": ""
    }
   },
   "source": [
    "-----------------\n",
    "\n",
    "### Filtrar candidaturas pela situação\n",
    "\n",
    "**Remover (candidaturas não efetivas)**\n",
    "\n",
    "* Essas situações não representam disputa real, logo não deveriam entrar no cálculo da cota ou da análise de desempenho eleitoral:\n",
    "* indeferido / indeferido com recurso → não aparecem na urna.\n",
    "* cassado / cassado com recurso → candidatura anulada.\n",
    "* cancelado / cancelado com recurso → registro cancelado.\n",
    "* inelegível → não pode concorrer.\n",
    "* impugnado → barrado antes do pleito.\n",
    "* renúncia → candidato desistiu.\n",
    "* falecido / falecimento → óbvio, inviável.\n",
    "* pedido não conhecido / pedido não conhecido com recurso / não conhecimento do pedido → não chegou a ser analisado no mérito.\n",
    "* pendente de julgamento / substituto pendente de julgamento / substituto majoritário pendente de julgamento / aguardando julgamento → não chegaram a tempo de disputar.\n",
    "\n",
    "* Isso garante que você está analisando candidaturas efetivamente válidas para a disputa proporcional\n",
    "\n",
    "**NOTA IMPORTANTE** A coluna situação só tem dados apartir de 2002, portanto todas as candidaturas para anos menores que 2002 foram consideradas válidas\n"
   ]
  },
  {
   "cell_type": "code",
   "execution_count": 0,
   "metadata": {
    "application/vnd.databricks.v1+cell": {
     "cellMetadata": {
      "byteLimit": 2048000,
      "rowLimit": 10000
     },
     "inputWidgets": {},
     "nuid": "b1a52129-8db8-4513-8c6a-fb2695ae79cd",
     "showTitle": false,
     "tableResultSettingsMap": {},
     "title": ""
    }
   },
   "outputs": [],
   "source": [
    "# Status da candidatura + cargo_std + eleito\n",
    "# Nota: aqui trato NULL/vazio como INVÁLIDO\n",
    "cond_valido = lower(trim(col(\"situacao\"))).isin(\"deferido\",\"sub judice\",\"deferido com recurso\")\n",
    "\n",
    "df_candidatos_all = (\n",
    "    df_genero_uf_fix\n",
    "    .withColumn(\"status_candidatura\", when(cond_valido, \"valido\").otherwise(\"invalido\"))\n",
    ")\n",
    "\n",
    "df_candidatos_validos = (\n",
    "    df_candidatos_all\n",
    "    .filter(lower(col(\"status_candidatura\")) == \"valido\")\n",
    "    .withColumn(\n",
    "        \"cargo_std\",\n",
    "        when(col(\"cargo\").rlike(\"(?i)deputado\\\\s*distrital\"), lit(\"deputado distrital\"))\n",
    "        .when(col(\"cargo\").rlike(\"(?i)deputado\\\\s*estadual\"),  lit(\"deputado estadual\"))\n",
    "        .when(col(\"cargo\").rlike(\"(?i)deputado\\\\s*federal\"),   lit(\"deputado federal\"))\n",
    "        .when(col(\"cargo\").rlike(\"(?i)vereador\"),              lit(\"vereador\"))\n",
    "        .when(col(\"cargo\").rlike(\"(?i)(senador|suplente.*senador|senador.*suplente)\"), lit(\"senador\"))\n",
    "        .when(col(\"cargo\").rlike(\"(?i)(governador|vice[- ]?governador)\"),              lit(\"governador\"))\n",
    "        .when(col(\"cargo\").rlike(\"(?i)(prefeit|vice[- ]?prefeit)\"),                    lit(\"prefeito\"))\n",
    "        .otherwise(lit(None).cast(\"string\"))\n",
    "    )\n",
    "    .withColumn(\"resultado_low\", lower(col(\"resultado\")))\n",
    "    .withColumn(\"genero_low\",    lower(col(\"genero\")))\n",
    "    .withColumn(\n",
    "        \"eleito\",\n",
    "        when((col(\"resultado_low\").rlike(\"eleit\")) & (~col(\"resultado_low\").rlike(\"n(?:ão|ao)\")), lit(1)).otherwise(lit(0))\n",
    "    )\n",
    "    .filter(col(\"cargo_std\").isNotNull())\n",
    ")\n",
    "\n",
    "# Opcional: salvar base granular já saneada\n",
    "(df_candidatos_validos\n",
    " .write.mode(\"overwrite\").option(\"mergeSchema\", \"true\")\n",
    " .saveAsTable(\"workspace.avaliacao_lei_tse.candidatos_genero_ok\"))"
   ]
  },
  {
   "cell_type": "markdown",
   "metadata": {
    "application/vnd.databricks.v1+cell": {
     "cellMetadata": {},
     "inputWidgets": {},
     "nuid": "ee2da477-651c-4f06-a2a2-f11ddab19d35",
     "showTitle": true,
     "tableResultSettingsMap": {},
     "title": ""
    }
   },
   "source": [
    "### Montar data panel econometrics\n"
   ]
  },
  {
   "cell_type": "code",
   "execution_count": 0,
   "metadata": {
    "application/vnd.databricks.v1+cell": {
     "cellMetadata": {
      "byteLimit": 2048000,
      "rowLimit": 10000
     },
     "inputWidgets": {},
     "nuid": "91ee0dc3-e19a-4a9e-a981-5cc01279846d",
     "showTitle": false,
     "tableResultSettingsMap": {},
     "title": ""
    }
   },
   "outputs": [],
   "source": [
    "cond_genero_valido = col(\"genero_low\").isin(\"feminino\",\"masculino\")\n",
    "\n",
    "painel_uf = (\n",
    "    df_candidatos_validos\n",
    "    .groupBy(\"sigla_uf\",\"ano\",\"cargo_std\")\n",
    "    .agg(\n",
    "        F.sum(F.when(cond_genero_valido, 1).otherwise(0)).alias(\"n_total\"),\n",
    "        F.sum(F.when(col(\"genero_low\")==\"feminino\", 1).otherwise(0)).alias(\"n_candidatas\"),\n",
    "        F.sum(F.when((col(\"eleito\")==1) & cond_genero_valido, 1).otherwise(0)).alias(\"n_eleitos_total\"),\n",
    "        F.sum(F.when((col(\"eleito\")==1) & (col(\"genero_low\")==\"feminino\"), 1).otherwise(0)).alias(\"n_eleitas\"),\n",
    "    )\n",
    "    .withColumn(\"prop_candidatas\", F.when(col(\"n_total\")>0, col(\"n_candidatas\")/col(\"n_total\")).otherwise(lit(None).cast(\"double\")))\n",
    "    .withColumn(\"prop_eleitas\",    F.when(col(\"n_eleitos_total\")>0, col(\"n_eleitas\")/col(\"n_eleitos_total\")).otherwise(lit(None).cast(\"double\")))\n",
    "    .withColumn(\"id_estado\", col(\"sigla_uf\"))\n",
    "    .withColumn(\"id_cargo\",  col(\"cargo_std\"))\n",
    "    .filter((col(\"ano\")>=1998) & (col(\"ano\")<=2022))\n",
    ")\n"
   ]
  },
  {
   "cell_type": "code",
   "execution_count": 0,
   "metadata": {
    "application/vnd.databricks.v1+cell": {
     "cellMetadata": {
      "byteLimit": 2048000,
      "rowLimit": 10000
     },
     "inputWidgets": {},
     "nuid": "75d759fd-5107-4546-889c-b39570763683",
     "showTitle": false,
     "tableResultSettingsMap": {},
     "title": ""
    }
   },
   "outputs": [],
   "source": [
    "# --------------------------\n",
    "# Painel balanceado com LOCF (uma vez só)\n",
    "# --------------------------\n",
    "ano_min = 1998\n",
    "ano_max = 2022\n",
    "anos_todos = list(range(ano_min, ano_max+1))\n",
    "anos_df = spark.createDataFrame([(a,) for a in anos_todos], [\"ano\"])\n",
    "\n",
    "chaves = [\"sigla_uf\",\"cargo_std\"]\n",
    "\n",
    "grid = painel_uf.select(*chaves).distinct().crossJoin(anos_df)\n",
    "\n",
    "painel_uf_full = grid.join(painel_uf, on=chaves+[\"ano\"], how=\"left\")\n",
    "\n",
    "# LOCF forward + backward somente nas colunas de proporção/contagem\n",
    "w_fwd  = Window.partitionBy(\"sigla_uf\",\"cargo_std\").orderBy(\"ano\").rowsBetween(Window.unboundedPreceding, 0)\n",
    "w_back = Window.partitionBy(\"sigla_uf\",\"cargo_std\").orderBy(col(\"ano\").desc()).rowsBetween(Window.unboundedPreceding, 0)\n",
    "\n",
    "for c in [\"n_total\",\"n_candidatas\",\"prop_candidatas\",\"n_eleitos_total\",\"n_eleitas\",\"prop_eleitas\"]:\n",
    "    painel_uf_full = painel_uf_full.withColumn(c, last(col(c), ignorenulls=True).over(w_fwd))\n",
    "    painel_uf_full = painel_uf_full.withColumn(c, coalesce(col(c), last(col(c), ignorenulls=True).over(w_back)))\n",
    "\n",
    "# Flags tratado/post somente aqui (evita inconsistência)\n",
    "def col_tratado(cargo_col):\n",
    "    return F.when(cargo_col.isin(\"vereador\",\"deputado federal\",\"deputado estadual\",\"deputado distrital\"), lit(1)).otherwise(lit(0))\n",
    "\n",
    "def col_treat_post(cargo_col, ano_col):\n",
    "    return (\n",
    "        F.when(cargo_col==\"vereador\", F.when(ano_col>=2012,1).otherwise(0))\n",
    "         .when(cargo_col.isin(\"deputado federal\",\"deputado estadual\",\"deputado distrital\"),\n",
    "               F.when(ano_col>=2010,1).otherwise(0))\n",
    "         .otherwise(0)\n",
    "    )\n",
    "\n",
    "painel_uf_bal = (\n",
    "    painel_uf_full\n",
    "    .withColumn(\"tratado\",    col_tratado(col(\"cargo_std\")))\n",
    "    .withColumn(\"treat_post\", col_treat_post(col(\"cargo_std\"), col(\"ano\")))\n",
    "    .withColumn(\"id_estado\",  col(\"sigla_uf\"))\n",
    "    .withColumn(\"id_cargo\",   col(\"cargo_std\"))\n",
    "    .filter((col(\"ano\")>=ano_min) & (col(\"ano\")<=ano_max))\n",
    "    .orderBy(\"sigla_uf\",\"cargo_std\",\"ano\")\n",
    ")\n",
    "\n",
    "# # display(painel_uf_bal)"
   ]
  },
  {
   "cell_type": "code",
   "execution_count": 0,
   "metadata": {
    "application/vnd.databricks.v1+cell": {
     "cellMetadata": {
      "byteLimit": 2048000,
      "rowLimit": 10000
     },
     "inputWidgets": {},
     "nuid": "86085fbc-7686-40a2-81fd-17edd11fdf6d",
     "showTitle": false,
     "tableResultSettingsMap": {},
     "title": ""
    }
   },
   "outputs": [
    {
     "data": {
      "text/plain": [
       "DataFrame[sigla_uf: string, ano: int, cargo_std: string, n_total: bigint, n_candidatas: bigint, n_eleitos_total: bigint, n_eleitas: bigint, prop_candidatas: double, prop_eleitas: double, id_estado: string, id_cargo: string, tratado: int, treat_post: int, populacao_total: double, populacao_feminina: double, populacao_masculina: double, Proporcao_pop_feminina: double, Proporcao_pop_masculina: double, homicidios_total: double, feminicidios: double, eleitoras_mulheres: double, eleitores_homens: double, eleitores_sem_info: double, eleitores_total: double, IDHM: double, IDHM_renda: double, IDHM_educacao: double, IDHM_longevidade: double, prop_eleitoras_mulheres: double, ln_prop_eleitas: double, ln_prop_candidatas: double, ln_populacao_feminina: double, ln_Proporcao_pop_feminina: double, ln_eleitoras_mulheres: double, ln_IDHM_renda: double, ln_IDHM_educacao: double, ln_IDHM_longevidade: double, ln_prop_eleitoras_mulheres: double, id: string, ano_trat: int]"
      ]
     },
     "metadata": {},
     "output_type": "display_data"
    }
   ],
   "source": [
    "panel_data = painel_uf_bal.join(df_explicativas, on=[\"sigla_uf\",\"ano\"], how=\"left\")\n",
    "\n",
    "# proporção de eleitoras mulheres\n",
    "panel_data = panel_data.withColumn(\"prop_eleitoras_mulheres\", col(\"eleitoras_mulheres\")/col(\"eleitores_total\"))\n",
    "\n",
    "# Função de log com clipping seguro (evita -inf/NaN)\n",
    "def log_pos(colname, eps=1e-6):\n",
    "    return F.log(F.when(F.col(colname) <= 0, eps).otherwise(F.col(colname)))\n",
    "\n",
    "panel_data = (\n",
    "    panel_data\n",
    "    .withColumn(\"ln_prop_eleitas\",            log_pos(\"prop_eleitas\"))\n",
    "    .withColumn(\"ln_prop_candidatas\",         log_pos(\"prop_candidatas\"))\n",
    "    .withColumn(\"ln_populacao_feminina\",      log_pos(\"populacao_feminina\"))\n",
    "    .withColumn(\"ln_Proporcao_pop_feminina\",  log_pos(\"Proporcao_pop_feminina\"))\n",
    "    .withColumn(\"ln_eleitoras_mulheres\",      log_pos(\"eleitoras_mulheres\"))\n",
    "    .withColumn(\"ln_IDHM_renda\",              log_pos(\"IDHM_renda\"))\n",
    "    .withColumn(\"ln_IDHM_educacao\",           log_pos(\"IDHM_educacao\"))\n",
    "    .withColumn(\"ln_IDHM_longevidade\",        log_pos(\"IDHM_longevidade\"))\n",
    "    .withColumn(\"ln_prop_eleitoras_mulheres\", log_pos(\"prop_eleitoras_mulheres\"))\n",
    "    .withColumn(\"ano\", col(\"ano\").cast(\"int\"))\n",
    "    .withColumn(\"id\", F.concat_ws(\"_\", col(\"sigla_uf\"), col(\"cargo_std\")))\n",
    "    .withColumn(\n",
    "        \"ano_trat\",\n",
    "        F.when(col(\"cargo_std\")==\"vereador\", lit(2012))\n",
    "         .when(col(\"cargo_std\").isin(\"deputado federal\",\"deputado estadual\",\"deputado distrital\"), lit(2010))\n",
    "         .otherwise(lit(0))\n",
    "    )\n",
    "    .orderBy(\"sigla_uf\",\"cargo_std\",\"ano\")\n",
    ")\n",
    "\n",
    "display(panel_data)"
   ]
  },
  {
   "cell_type": "markdown",
   "metadata": {
    "application/vnd.databricks.v1+cell": {
     "cellMetadata": {},
     "inputWidgets": {},
     "nuid": "c95ba398-8ed7-4d85-9dd8-1005c55b70ec",
     "showTitle": false,
     "tableResultSettingsMap": {},
     "title": ""
    }
   },
   "source": [
    "#### Validações rápidas"
   ]
  },
  {
   "cell_type": "code",
   "execution_count": 0,
   "metadata": {
    "application/vnd.databricks.v1+cell": {
     "cellMetadata": {
      "byteLimit": 2048000,
      "rowLimit": 10000
     },
     "inputWidgets": {},
     "nuid": "c15a7deb-9209-4615-9b70-a45ddec8769d",
     "showTitle": false,
     "tableResultSettingsMap": {},
     "title": ""
    }
   },
   "outputs": [
    {
     "name": "stdout",
     "output_type": "stream",
     "text": [
      "{'faixas_proporcoes': {'min_prop_candidatas': 0.0, 'max_prop_candidatas': 0.75, 'min_prop_eleitas': 0.0, 'max_prop_eleitas': 1.0}}\n",
      "{'linhas_painel': 4000, 'n_ufs': 27, 'n_cargos': 7, 'n_anos': 25, 'max_teorico_balanceado': 4725}\n"
     ]
    }
   ],
   "source": [
    "# (A) Uma linha por chave\n",
    "dup = (panel_data.groupBy(\"sigla_uf\",\"cargo_std\",\"ano\")\n",
    "       .agg(F.count(F.lit(1)).alias(\"n\")).filter(col(\"n\")>1))\n",
    "assert dup.count()==0, \"Painel com duplicatas por sigla_uf×cargo_std×ano\"\n",
    "\n",
    "# (B) Faixas de proporção\n",
    "mins_maxs = panel_data.select(\n",
    "    F.min(\"prop_candidatas\").alias(\"min_prop_candidatas\"),\n",
    "    F.max(\"prop_candidatas\").alias(\"max_prop_candidatas\"),\n",
    "    F.min(\"prop_eleitas\").alias(\"min_prop_eleitas\"),\n",
    "    F.max(\"prop_eleitas\").alias(\"max_prop_eleitas\")\n",
    ").first().asDict()\n",
    "print({\"faixas_proporcoes\": mins_maxs})\n",
    "\n",
    "# (C) Dimensão esperada (se completamente balanceado)\n",
    "n_ufs    = panel_data.select(\"sigla_uf\").distinct().count()\n",
    "n_cargos = panel_data.select(\"cargo_std\").distinct().count()\n",
    "n_anos   = panel_data.select(\"ano\").distinct().count()\n",
    "print({\n",
    "    \"linhas_painel\": panel_data.count(),\n",
    "    \"n_ufs\": n_ufs, \"n_cargos\": n_cargos, \"n_anos\": n_anos,\n",
    "    \"max_teorico_balanceado\": n_ufs * n_cargos * n_anos\n",
    "})\n",
    "\n",
    "panel_data.write.mode(\"overwrite\").saveAsTable(\"workspace.avaliacao_lei_tse.panel_data_ok\")"
   ]
  },
  {
   "cell_type": "code",
   "execution_count": 0,
   "metadata": {
    "application/vnd.databricks.v1+cell": {
     "cellMetadata": {
      "byteLimit": 2048000,
      "rowLimit": 10000
     },
     "inputWidgets": {},
     "nuid": "a4edb580-e89c-4797-990a-28524c809007",
     "showTitle": false,
     "tableResultSettingsMap": {},
     "title": ""
    }
   },
   "outputs": [],
   "source": [
    "panel_data.write.mode(\"overwrite\").saveAsTable(\"workspace.avaliacao_lei_tse.panel_data\")"
   ]
  },
  {
   "cell_type": "markdown",
   "metadata": {
    "application/vnd.databricks.v1+cell": {
     "cellMetadata": {},
     "inputWidgets": {},
     "nuid": "8d17c79a-b34d-44df-81b0-a0e3737b73fc",
     "showTitle": false,
     "tableResultSettingsMap": {},
     "title": ""
    }
   },
   "source": [
    "#### Preparar painel para rodar os modelos"
   ]
  },
  {
   "cell_type": "code",
   "execution_count": 0,
   "metadata": {
    "application/vnd.databricks.v1+cell": {
     "cellMetadata": {
      "byteLimit": 2048000,
      "rowLimit": 10000
     },
     "inputWidgets": {},
     "nuid": "a9302005-5f75-4589-853e-835a1d805f9f",
     "showTitle": false,
     "tableResultSettingsMap": {},
     "title": ""
    }
   },
   "outputs": [
    {
     "name": "stderr",
     "output_type": "stream",
     "text": [
      "/databricks/python/lib/python3.11/site-packages/pyspark/sql/connect/expressions.py:1017: UserWarning: WARN WindowExpression: No Partition Defined for Window operation! Moving all data to a single partition, this can cause serious performance degradation.\n",
      "  warnings.warn(\n",
      "/databricks/python/lib/python3.11/site-packages/pyspark/sql/connect/expressions.py:1017: UserWarning: WARN WindowExpression: No Partition Defined for Window operation! Moving all data to a single partition, this can cause serious performance degradation.\n",
      "  warnings.warn(\n",
      "/databricks/python/lib/python3.11/site-packages/pyspark/sql/connect/expressions.py:1017: UserWarning: WARN WindowExpression: No Partition Defined for Window operation! Moving all data to a single partition, this can cause serious performance degradation.\n",
      "  warnings.warn(\n",
      "/databricks/python/lib/python3.11/site-packages/pyspark/sql/connect/expressions.py:1017: UserWarning: WARN WindowExpression: No Partition Defined for Window operation! Moving all data to a single partition, this can cause serious performance degradation.\n",
      "  warnings.warn(\n"
     ]
    }
   ],
   "source": [
    "# join painel + explicativas\n",
    "panel_data_ok = panel_data.join(df_explicativas, on=[\"sigla_uf\", \"ano\"], how=\"left\")\n",
    "\n",
    "INF = float(\"inf\")\n",
    "def is_finite(col):\n",
    "    return (col.isNotNull()) & (~F.isnan(col)) & (F.abs(col) != F.lit(INF))\n",
    "\n",
    "# janela para IDs sequenciais\n",
    "w_rank = Window.orderBy(\"id_char\")\n",
    "\n",
    "# candidatas\n",
    "df_did_cov_candidatas = (\n",
    "    panel_data_ok\n",
    "    .withColumn(\"id_char\", F.concat_ws(\"_\", \"sigla_uf\", \"cargo_std\"))\n",
    "    .withColumn(\"id_num\", F.dense_rank().over(w_rank).cast(\"int\"))\n",
    "    .withColumn(\"ln_prop_candidatas\", F.log(F.col(\"prop_candidatas\")))\n",
    "    .withColumn(\"g\", F.when(F.col(\"ano_trat\").isNotNull(), F.col(\"ano_trat\").cast(\"int\")))\n",
    "    .filter(is_finite(F.col(\"ln_prop_candidatas\")))\n",
    "    .filter(F.col(\"ano\").isNotNull() & F.col(\"id_num\").isNotNull() & F.col(\"g\").isNotNull())\n",
    ")\n",
    "df_did_cov_candidatas_pd = df_did_cov_candidatas.toPandas()\n",
    "\n",
    "# eleitas\n",
    "df_did_cov_eleitas = (\n",
    "    panel_data_ok\n",
    "    .withColumn(\"id_char\", F.concat_ws(\"_\", \"sigla_uf\", \"cargo_std\"))\n",
    "    .withColumn(\"id_num\", F.dense_rank().over(w_rank).cast(\"int\"))\n",
    "    .withColumn(\"ln_prop_eleitas\", F.log(F.col(\"prop_eleitas\") + F.lit(0.01)))\n",
    "    .withColumn(\"g\", F.when(F.col(\"ano_trat\").isNotNull(), F.col(\"ano_trat\").cast(\"int\")))\n",
    "    .filter(is_finite(F.col(\"ln_prop_eleitas\")))\n",
    "    .filter(F.col(\"ano\").isNotNull() & F.col(\"id_num\").isNotNull() & F.col(\"g\").isNotNull())\n",
    ")\n",
    "df_did_cov_eleitas_pd = df_did_cov_eleitas.toPandas()\n",
    "\n",
    "# Deletar objetos da memoria\n",
    "del cond_valido, df_candidatos, df_candidatos_all, df_candidatos_eleitos, df_candidatos_validos, \\\n",
    "    df_eleitos, df_genero_fix, df_genero_uf_fix, dup, grid, mapeamento_regioes, mapping_expr, \\\n",
    "    mins_maxs, painel_uf, painel_uf_bal, painel_uf_full, ufs_ruins, valid_ufs, w_back, w_fwd, \\\n",
    "    ano_max, ano_min, c, n_anos, n_cargos, n_ufs, anos_df, anos_todos, chaves, cond_genero_valido\n"
   ]
  },
  {
   "cell_type": "markdown",
   "metadata": {
    "application/vnd.databricks.v1+cell": {
     "cellMetadata": {},
     "inputWidgets": {},
     "nuid": "c19afe47-9ee5-4f87-9148-3e04263394ea",
     "showTitle": false,
     "tableResultSettingsMap": {},
     "title": ""
    }
   },
   "source": [
    "%md\n",
    "# Estrutura do painel construído\n",
    "\n",
    "- **Grão (chave primária):**\n",
    "  - `sigla_uf` × `cargo_std` × `ano`\n",
    "\n",
    "- **Período coberto:**\n",
    "  - 1998–2022 (anos completados com LOCF entre pleitos)\n",
    "\n",
    "- **Colunas principais:**\n",
    "  - `sigla_uf`: unidade da federação (AC, AL, ..., SP, TO)\n",
    "  - `cargo_std`: cargo padronizado (\"vereador\", \"deputado estadual\", \"deputado federal\", \"deputado distrital\", \"senador\", \"governador\", \"prefeito\")\n",
    "  - `ano`: ano da eleição / painel\n",
    "  - `n_total`: candidaturas totais válidas (M+F)\n",
    "  - `n_candidatas`: candidaturas femininas\n",
    "  - `prop_candidatas` = n_candidatas / n_total\n",
    "  - `n_eleitos_total`: eleitos (M+F)\n",
    "  - `n_eleitas`: eleitas\n",
    "  - `prop_eleitas` = n_eleitas / n_eleitos_total\n",
    "  - `tratado`: flag (1 se cargo é vereador ou deputado)\n",
    "  - `treat_post`: flag (1 se ano >= 2012 para vereador, >= 2010 para deputados)\n",
    "  - `prop_eleitoras_mulheres`: eleitoras_mulheres / eleitores_total\n",
    "  - Variáveis socioeconômicas e logs (`ln_*`)\n",
    "\n",
    "- **IDs do painel:**\n",
    "  - `id_estado` = sigla_uf\n",
    "  - `id_cargo` = cargo_std\n",
    "  - `id` = concatenação textual → `sigla_uf + \"_\" + cargo_std`  \n",
    "    - Exemplos:  \n",
    "      - `\"SP_vereador\"`  \n",
    "      - `\"RJ_deputado estadual\"`  \n",
    "      - `\"DF_deputado distrital\"`\n",
    "\n",
    "- **Opções de IDs adicionais (se necessário):**\n",
    "  - `id_panel`: identificador numérico único para UF×cargo  \n",
    "  - `id_panel_ano`: identificador numérico único para UF×cargo×ano  \n",
    "\n",
    "- **Uso do `id`:**\n",
    "  - `id` serve para identificar o grupo **UF×cargo**  \n",
    "  - o tempo (`ano`) é mantido separado → chave completa é (`sigla_uf`, `cargo_std`, `ano`)  \n",
    "  - facilita regressões com efeitos fixos (`fe = id`) e séries temporais (`ano`)\n"
   ]
  },
  {
   "cell_type": "markdown",
   "metadata": {
    "application/vnd.databricks.v1+cell": {
     "cellMetadata": {},
     "inputWidgets": {},
     "nuid": "f5e55716-c322-4020-93b0-6a76d3a7995f",
     "showTitle": false,
     "tableResultSettingsMap": {},
     "title": ""
    }
   },
   "source": [
    "#### Exploração simples (resumos pré/pós lei por cargos e períodos)"
   ]
  },
  {
   "cell_type": "code",
   "execution_count": 0,
   "metadata": {
    "application/vnd.databricks.v1+cell": {
     "cellMetadata": {
      "byteLimit": 2048000,
      "rowLimit": 10000
     },
     "inputWidgets": {},
     "nuid": "eb8505d5-4c61-429d-9edd-cc0bdf77f3cb",
     "showTitle": false,
     "tableResultSettingsMap": {},
     "title": ""
    }
   },
   "outputs": [
    {
     "name": "stdout",
     "output_type": "stream",
     "text": [
      "Pré-lei candidatas: min     0.161751\n",
      "max     0.163525\n",
      "mean    0.162281\n",
      "Name: prop_candidatas, dtype: float64\n",
      "Pós-lei candidatas: min     0.209829\n",
      "max     0.352465\n",
      "mean    0.291008\n",
      "Name: prop_candidatas, dtype: float64\n"
     ]
    }
   ],
   "source": [
    "def resumo_periodo(df, var, inicio, fim, cargos):\n",
    "    return (\n",
    "        df.loc[(df[\"ano\"].between(inicio,fim)) & (df[\"cargo_std\"].isin(cargos))]\n",
    "          .groupby(\"ano\")[var].mean()\n",
    "          .agg([\"min\",\"max\",\"mean\"])\n",
    "    )\n",
    "\n",
    "# exemplo: deputados + vereadores\n",
    "cargos_did = [\"deputado federal\",\"deputado estadual\",\"deputado distrital\",\"vereador\"]\n",
    "print(\"Pré-lei candidatas:\", resumo_periodo(df_did_cov_candidatas_pd,\"prop_candidatas\",1996,2009,cargos_did))\n",
    "print(\"Pós-lei candidatas:\", resumo_periodo(df_did_cov_candidatas_pd,\"prop_candidatas\",2010,2022,cargos_did))\n"
   ]
  },
  {
   "cell_type": "markdown",
   "metadata": {
    "application/vnd.databricks.v1+cell": {
     "cellMetadata": {},
     "inputWidgets": {},
     "nuid": "b68ae3ff-b5bf-4ef6-a023-5c972d585eb1",
     "showTitle": false,
     "tableResultSettingsMap": {},
     "title": ""
    }
   },
   "source": [
    "#### Resumo por cargo (para todos os cargos, pré e pós lei)\n"
   ]
  },
  {
   "cell_type": "code",
   "execution_count": 0,
   "metadata": {
    "application/vnd.databricks.v1+cell": {
     "cellMetadata": {
      "byteLimit": 2048000,
      "rowLimit": 10000
     },
     "inputWidgets": {},
     "nuid": "4e044a4e-24b2-49ad-8f82-6b60b5f92511",
     "showTitle": false,
     "tableResultSettingsMap": {},
     "title": ""
    }
   },
   "outputs": [
    {
     "data": {
      "text/html": [
       "<div>\n",
       "<style scoped>\n",
       "    .dataframe tbody tr th:only-of-type {\n",
       "        vertical-align: middle;\n",
       "    }\n",
       "\n",
       "    .dataframe tbody tr th {\n",
       "        vertical-align: top;\n",
       "    }\n",
       "\n",
       "    .dataframe thead th {\n",
       "        text-align: right;\n",
       "    }\n",
       "</style>\n",
       "<table border=\"1\" class=\"dataframe\">\n",
       "  <thead>\n",
       "    <tr style=\"text-align: right;\">\n",
       "      <th></th>\n",
       "      <th>cargo_std</th>\n",
       "      <th>min</th>\n",
       "      <th>max</th>\n",
       "      <th>mean</th>\n",
       "      <th>variavel</th>\n",
       "      <th>periodo</th>\n",
       "    </tr>\n",
       "  </thead>\n",
       "  <tbody>\n",
       "    <tr>\n",
       "      <th>0</th>\n",
       "      <td>deputado distrital</td>\n",
       "      <td>0.204147</td>\n",
       "      <td>0.208075</td>\n",
       "      <td>0.205456</td>\n",
       "      <td>prop_candidatas</td>\n",
       "      <td>Pré-lei</td>\n",
       "    </tr>\n",
       "    <tr>\n",
       "      <th>1</th>\n",
       "      <td>deputado estadual</td>\n",
       "      <td>0.135095</td>\n",
       "      <td>0.139233</td>\n",
       "      <td>0.137854</td>\n",
       "      <td>prop_candidatas</td>\n",
       "      <td>Pré-lei</td>\n",
       "    </tr>\n",
       "    <tr>\n",
       "      <th>2</th>\n",
       "      <td>deputado federal</td>\n",
       "      <td>0.125097</td>\n",
       "      <td>0.134193</td>\n",
       "      <td>0.128129</td>\n",
       "      <td>prop_candidatas</td>\n",
       "      <td>Pré-lei</td>\n",
       "    </tr>\n",
       "    <tr>\n",
       "      <th>3</th>\n",
       "      <td>governador</td>\n",
       "      <td>0.188443</td>\n",
       "      <td>0.189547</td>\n",
       "      <td>0.188811</td>\n",
       "      <td>prop_candidatas</td>\n",
       "      <td>Pré-lei</td>\n",
       "    </tr>\n",
       "    <tr>\n",
       "      <th>4</th>\n",
       "      <td>prefeito</td>\n",
       "      <td>0.135367</td>\n",
       "      <td>0.147307</td>\n",
       "      <td>0.137357</td>\n",
       "      <td>prop_candidatas</td>\n",
       "      <td>Pré-lei</td>\n",
       "    </tr>\n",
       "    <tr>\n",
       "      <th>5</th>\n",
       "      <td>senador</td>\n",
       "      <td>0.186867</td>\n",
       "      <td>0.205239</td>\n",
       "      <td>0.192991</td>\n",
       "      <td>prop_candidatas</td>\n",
       "      <td>Pré-lei</td>\n",
       "    </tr>\n",
       "    <tr>\n",
       "      <th>6</th>\n",
       "      <td>vereador</td>\n",
       "      <td>0.219573</td>\n",
       "      <td>0.220702</td>\n",
       "      <td>0.220514</td>\n",
       "      <td>prop_candidatas</td>\n",
       "      <td>Pré-lei</td>\n",
       "    </tr>\n",
       "    <tr>\n",
       "      <th>7</th>\n",
       "      <td>deputado distrital</td>\n",
       "      <td>0.251880</td>\n",
       "      <td>0.352014</td>\n",
       "      <td>0.293634</td>\n",
       "      <td>prop_candidatas</td>\n",
       "      <td>Pós-lei</td>\n",
       "    </tr>\n",
       "    <tr>\n",
       "      <th>8</th>\n",
       "      <td>deputado estadual</td>\n",
       "      <td>0.207827</td>\n",
       "      <td>0.339204</td>\n",
       "      <td>0.276995</td>\n",
       "      <td>prop_candidatas</td>\n",
       "      <td>Pós-lei</td>\n",
       "    </tr>\n",
       "    <tr>\n",
       "      <th>9</th>\n",
       "      <td>deputado federal</td>\n",
       "      <td>0.200817</td>\n",
       "      <td>0.368229</td>\n",
       "      <td>0.283730</td>\n",
       "      <td>prop_candidatas</td>\n",
       "      <td>Pós-lei</td>\n",
       "    </tr>\n",
       "    <tr>\n",
       "      <th>10</th>\n",
       "      <td>governador</td>\n",
       "      <td>0.193671</td>\n",
       "      <td>0.275424</td>\n",
       "      <td>0.224373</td>\n",
       "      <td>prop_candidatas</td>\n",
       "      <td>Pós-lei</td>\n",
       "    </tr>\n",
       "    <tr>\n",
       "      <th>11</th>\n",
       "      <td>prefeito</td>\n",
       "      <td>0.147307</td>\n",
       "      <td>0.187826</td>\n",
       "      <td>0.169938</td>\n",
       "      <td>prop_candidatas</td>\n",
       "      <td>Pós-lei</td>\n",
       "    </tr>\n",
       "    <tr>\n",
       "      <th>12</th>\n",
       "      <td>senador</td>\n",
       "      <td>0.181205</td>\n",
       "      <td>0.277282</td>\n",
       "      <td>0.220207</td>\n",
       "      <td>prop_candidatas</td>\n",
       "      <td>Pós-lei</td>\n",
       "    </tr>\n",
       "    <tr>\n",
       "      <th>13</th>\n",
       "      <td>vereador</td>\n",
       "      <td>0.219573</td>\n",
       "      <td>0.349373</td>\n",
       "      <td>0.312479</td>\n",
       "      <td>prop_candidatas</td>\n",
       "      <td>Pós-lei</td>\n",
       "    </tr>\n",
       "    <tr>\n",
       "      <th>14</th>\n",
       "      <td>deputado distrital</td>\n",
       "      <td>0.125000</td>\n",
       "      <td>0.208333</td>\n",
       "      <td>0.180556</td>\n",
       "      <td>prop_eleitas</td>\n",
       "      <td>Pré-lei</td>\n",
       "    </tr>\n",
       "    <tr>\n",
       "      <th>15</th>\n",
       "      <td>deputado estadual</td>\n",
       "      <td>0.118397</td>\n",
       "      <td>0.122137</td>\n",
       "      <td>0.120890</td>\n",
       "      <td>prop_eleitas</td>\n",
       "      <td>Pré-lei</td>\n",
       "    </tr>\n",
       "    <tr>\n",
       "      <th>16</th>\n",
       "      <td>deputado federal</td>\n",
       "      <td>0.099336</td>\n",
       "      <td>0.111779</td>\n",
       "      <td>0.103484</td>\n",
       "      <td>prop_eleitas</td>\n",
       "      <td>Pré-lei</td>\n",
       "    </tr>\n",
       "    <tr>\n",
       "      <th>17</th>\n",
       "      <td>governador</td>\n",
       "      <td>0.074074</td>\n",
       "      <td>0.111111</td>\n",
       "      <td>0.086420</td>\n",
       "      <td>prop_eleitas</td>\n",
       "      <td>Pré-lei</td>\n",
       "    </tr>\n",
       "    <tr>\n",
       "      <th>18</th>\n",
       "      <td>prefeito</td>\n",
       "      <td>0.096633</td>\n",
       "      <td>0.105806</td>\n",
       "      <td>0.098162</td>\n",
       "      <td>prop_eleitas</td>\n",
       "      <td>Pré-lei</td>\n",
       "    </tr>\n",
       "    <tr>\n",
       "      <th>19</th>\n",
       "      <td>senador</td>\n",
       "      <td>0.148148</td>\n",
       "      <td>0.148148</td>\n",
       "      <td>0.148148</td>\n",
       "      <td>prop_eleitas</td>\n",
       "      <td>Pré-lei</td>\n",
       "    </tr>\n",
       "    <tr>\n",
       "      <th>20</th>\n",
       "      <td>vereador</td>\n",
       "      <td>0.132613</td>\n",
       "      <td>0.132933</td>\n",
       "      <td>0.132667</td>\n",
       "      <td>prop_eleitas</td>\n",
       "      <td>Pré-lei</td>\n",
       "    </tr>\n",
       "    <tr>\n",
       "      <th>21</th>\n",
       "      <td>deputado distrital</td>\n",
       "      <td>0.166667</td>\n",
       "      <td>0.208333</td>\n",
       "      <td>0.179487</td>\n",
       "      <td>prop_eleitas</td>\n",
       "      <td>Pós-lei</td>\n",
       "    </tr>\n",
       "    <tr>\n",
       "      <th>22</th>\n",
       "      <td>deputado estadual</td>\n",
       "      <td>0.115439</td>\n",
       "      <td>0.173008</td>\n",
       "      <td>0.137077</td>\n",
       "      <td>prop_eleitas</td>\n",
       "      <td>Pós-lei</td>\n",
       "    </tr>\n",
       "    <tr>\n",
       "      <th>23</th>\n",
       "      <td>deputado federal</td>\n",
       "      <td>0.118478</td>\n",
       "      <td>0.187842</td>\n",
       "      <td>0.144659</td>\n",
       "      <td>prop_eleitas</td>\n",
       "      <td>Pós-lei</td>\n",
       "    </tr>\n",
       "    <tr>\n",
       "      <th>24</th>\n",
       "      <td>governador</td>\n",
       "      <td>0.037037</td>\n",
       "      <td>0.074074</td>\n",
       "      <td>0.053561</td>\n",
       "      <td>prop_eleitas</td>\n",
       "      <td>Pós-lei</td>\n",
       "    </tr>\n",
       "    <tr>\n",
       "      <th>25</th>\n",
       "      <td>prefeito</td>\n",
       "      <td>0.105806</td>\n",
       "      <td>0.133218</td>\n",
       "      <td>0.124744</td>\n",
       "      <td>prop_eleitas</td>\n",
       "      <td>Pós-lei</td>\n",
       "    </tr>\n",
       "    <tr>\n",
       "      <th>26</th>\n",
       "      <td>senador</td>\n",
       "      <td>0.111111</td>\n",
       "      <td>0.185185</td>\n",
       "      <td>0.142450</td>\n",
       "      <td>prop_eleitas</td>\n",
       "      <td>Pós-lei</td>\n",
       "    </tr>\n",
       "    <tr>\n",
       "      <th>27</th>\n",
       "      <td>vereador</td>\n",
       "      <td>0.132933</td>\n",
       "      <td>0.164061</td>\n",
       "      <td>0.143965</td>\n",
       "      <td>prop_eleitas</td>\n",
       "      <td>Pós-lei</td>\n",
       "    </tr>\n",
       "  </tbody>\n",
       "</table>\n",
       "</div>"
      ],
      "text/plain": [
       "             cargo_std       min       max      mean         variavel  periodo\n",
       "0   deputado distrital  0.204147  0.208075  0.205456  prop_candidatas  Pré-lei\n",
       "1    deputado estadual  0.135095  0.139233  0.137854  prop_candidatas  Pré-lei\n",
       "2     deputado federal  0.125097  0.134193  0.128129  prop_candidatas  Pré-lei\n",
       "3           governador  0.188443  0.189547  0.188811  prop_candidatas  Pré-lei\n",
       "4             prefeito  0.135367  0.147307  0.137357  prop_candidatas  Pré-lei\n",
       "5              senador  0.186867  0.205239  0.192991  prop_candidatas  Pré-lei\n",
       "6             vereador  0.219573  0.220702  0.220514  prop_candidatas  Pré-lei\n",
       "7   deputado distrital  0.251880  0.352014  0.293634  prop_candidatas  Pós-lei\n",
       "8    deputado estadual  0.207827  0.339204  0.276995  prop_candidatas  Pós-lei\n",
       "9     deputado federal  0.200817  0.368229  0.283730  prop_candidatas  Pós-lei\n",
       "10          governador  0.193671  0.275424  0.224373  prop_candidatas  Pós-lei\n",
       "11            prefeito  0.147307  0.187826  0.169938  prop_candidatas  Pós-lei\n",
       "12             senador  0.181205  0.277282  0.220207  prop_candidatas  Pós-lei\n",
       "13            vereador  0.219573  0.349373  0.312479  prop_candidatas  Pós-lei\n",
       "14  deputado distrital  0.125000  0.208333  0.180556     prop_eleitas  Pré-lei\n",
       "15   deputado estadual  0.118397  0.122137  0.120890     prop_eleitas  Pré-lei\n",
       "16    deputado federal  0.099336  0.111779  0.103484     prop_eleitas  Pré-lei\n",
       "17          governador  0.074074  0.111111  0.086420     prop_eleitas  Pré-lei\n",
       "18            prefeito  0.096633  0.105806  0.098162     prop_eleitas  Pré-lei\n",
       "19             senador  0.148148  0.148148  0.148148     prop_eleitas  Pré-lei\n",
       "20            vereador  0.132613  0.132933  0.132667     prop_eleitas  Pré-lei\n",
       "21  deputado distrital  0.166667  0.208333  0.179487     prop_eleitas  Pós-lei\n",
       "22   deputado estadual  0.115439  0.173008  0.137077     prop_eleitas  Pós-lei\n",
       "23    deputado federal  0.118478  0.187842  0.144659     prop_eleitas  Pós-lei\n",
       "24          governador  0.037037  0.074074  0.053561     prop_eleitas  Pós-lei\n",
       "25            prefeito  0.105806  0.133218  0.124744     prop_eleitas  Pós-lei\n",
       "26             senador  0.111111  0.185185  0.142450     prop_eleitas  Pós-lei\n",
       "27            vereador  0.132933  0.164061  0.143965     prop_eleitas  Pós-lei"
      ]
     },
     "metadata": {},
     "output_type": "display_data"
    }
   ],
   "source": [
    "def resumo_por_cargo_all(df, var, inicio, fim, periodo):\n",
    "    por_ano = (\n",
    "        df.loc[df[\"ano\"].between(inicio,fim)]\n",
    "          .groupby([\"cargo_std\",\"ano\"],as_index=False)[var].mean()\n",
    "    )\n",
    "    stats = por_ano.groupby(\"cargo_std\")[var].agg(min=\"min\",max=\"max\",mean=\"mean\").reset_index()\n",
    "    stats[\"variavel\"] = var\n",
    "    stats[\"periodo\"] = periodo\n",
    "    return stats\n",
    "\n",
    "cand_pre  = resumo_por_cargo_all(df_did_cov_candidatas_pd,\"prop_candidatas\",1996,2009,\"Pré-lei\")\n",
    "cand_post = resumo_por_cargo_all(df_did_cov_candidatas_pd,\"prop_candidatas\",2010,2022,\"Pós-lei\")\n",
    "ele_pre   = resumo_por_cargo_all(df_did_cov_eleitas_pd,\"prop_eleitas\",1996,2009,\"Pré-lei\")\n",
    "ele_post  = resumo_por_cargo_all(df_did_cov_eleitas_pd,\"prop_eleitas\",2010,2022,\"Pós-lei\")\n",
    "\n",
    "df_resumo = pd.concat([cand_pre,cand_post,ele_pre,ele_post],ignore_index=True)\n",
    "display(df_resumo)\n"
   ]
  },
  {
   "cell_type": "markdown",
   "metadata": {
    "application/vnd.databricks.v1+cell": {
     "cellMetadata": {},
     "inputWidgets": {},
     "nuid": "5f9a0202-6f0f-4b44-85ad-2e44aa3e725c",
     "showTitle": false,
     "tableResultSettingsMap": {},
     "title": ""
    }
   },
   "source": [
    "### Plote da média de candidatas para os grupos tratado e controle"
   ]
  },
  {
   "cell_type": "code",
   "execution_count": 0,
   "metadata": {
    "application/vnd.databricks.v1+cell": {
     "cellMetadata": {
      "byteLimit": 2048000,
      "rowLimit": 10000
     },
     "inputWidgets": {},
     "nuid": "9de4124d-79d1-4116-8ec0-89a853079819",
     "showTitle": false,
     "tableResultSettingsMap": {},
     "title": ""
    }
   },
   "outputs": [],
   "source": [
    "## Função para plotar \n",
    "def plot_parallel_trends(panel_pd: pd.DataFrame,\n",
    "                         var: str = \"prop_candidatas\",\n",
    "                         treated=(\"vereador\", \"deputado federal\", \"deputado estadual\", \"deputado distrital\"),\n",
    "                         controls=(\"senador\", \"governador\", \"prefeito\"),\n",
    "                         vline=2009,\n",
    "                         title_prefix=\"\"):\n",
    "    # Checagens leves\n",
    "    req_cols = {\"ano\", \"cargo_std\", var}\n",
    "    missing = req_cols - set(panel_pd.columns)\n",
    "    if missing:\n",
    "        raise ValueError(f\"Faltam colunas no DataFrame: {missing}\")\n",
    "\n",
    "    df = panel_pd.copy()\n",
    "    # manter apenas linhas com ano e var válidos\n",
    "    df = df.loc[df[\"ano\"].notna() & df[var].notna()]\n",
    "\n",
    "    # Definir grupo Tratado vs Controle\n",
    "    df[\"grupo\"] = np.where(df[\"cargo_std\"].isin(treated), \"Tratado\",\n",
    "                           np.where(df[\"cargo_std\"].isin(controls), \"Controle\", \"Outro\"))\n",
    "\n",
    "    # (opcional) filtrar só Tratado/Controle, como no R\n",
    "    df = df[df[\"grupo\"].isin([\"Tratado\", \"Controle\"])]\n",
    "\n",
    "    # Agregar média por ano × grupo\n",
    "    df_plot = (\n",
    "        df.groupby([\"ano\", \"grupo\"], as_index=False)[var]\n",
    "          .mean()\n",
    "          .rename(columns={var: \"media\"})\n",
    "    )\n",
    "\n",
    "    # Ordenar por ano para garantir linhas contínuas\n",
    "    df_plot = df_plot.sort_values([\"grupo\", \"ano\"])\n",
    "\n",
    "    # Plot\n",
    "    fig = px.line(\n",
    "        df_plot,\n",
    "        x=\"ano\",\n",
    "        y=\"media\",\n",
    "        color=\"grupo\",\n",
    "        markers=True,\n",
    "        title=f\"{title_prefix} – {var}\"\n",
    "    )\n",
    "\n",
    "    # Formatação: eixos, hover e percentuais (var é proporção 0–1)\n",
    "    fig.update_traces(mode=\"lines+markers\", hovertemplate=\"%{x}<br>Média: %{y:.2%}<extra></extra>\")\n",
    "    fig.update_yaxes(title_text=f\"Média de {var}\", tickformat=\".0%\")\n",
    "    fig.update_xaxes(title_text=\"Ano\")\n",
    "\n",
    "    # Linha vertical no ano da lei (2009)\n",
    "    fig.add_vline(x=vline, line_width=2, line_dash=\"dash\", line_color=\"red\")\n",
    "    fig.add_annotation(\n",
    "        x=vline, y=1.02, xref=\"x\", yref=\"paper\",\n",
    "        text=f\"Lei Nº 12.034 / {vline}\",\n",
    "        showarrow=False, yanchor=\"bottom\",\n",
    "        font=dict(color=\"red\")\n",
    "    )\n",
    "\n",
    "    # Layout geral\n",
    "    fig.update_layout(\n",
    "        legend_title_text=\"Grupo\",\n",
    "        template=\"simple_white\",\n",
    "        margin=dict(l=40, r=20, t=60, b=40),\n",
    "        height=600 \n",
    "    )\n",
    "\n",
    "    return fig\n",
    "\n",
    "# Gerar samploe\n",
    "panel_pd = panel_data.select(\"ano\", \"cargo_std\", \"prop_candidatas\", \"prop_eleitas\").toPandas()"
   ]
  },
  {
   "cell_type": "code",
   "execution_count": 0,
   "metadata": {
    "application/vnd.databricks.v1+cell": {
     "cellMetadata": {
      "byteLimit": 2048000,
      "rowLimit": 10000
     },
     "inputWidgets": {},
     "nuid": "f04ea01f-61f3-4f50-b17f-2af447bee702",
     "showTitle": false,
     "tableResultSettingsMap": {},
     "title": ""
    }
   },
   "outputs": [
    {
     "data": {
      "text/html": [
       "<div>\n",
       "<style scoped>\n",
       "    .dataframe tbody tr th:only-of-type {\n",
       "        vertical-align: middle;\n",
       "    }\n",
       "\n",
       "    .dataframe tbody tr th {\n",
       "        vertical-align: top;\n",
       "    }\n",
       "\n",
       "    .dataframe thead th {\n",
       "        text-align: right;\n",
       "    }\n",
       "</style>\n",
       "<table border=\"1\" class=\"dataframe\">\n",
       "  <thead>\n",
       "    <tr style=\"text-align: right;\">\n",
       "      <th></th>\n",
       "      <th>ano</th>\n",
       "      <th>cargo_std</th>\n",
       "      <th>prop_candidatas</th>\n",
       "      <th>prop_eleitas</th>\n",
       "    </tr>\n",
       "  </thead>\n",
       "  <tbody>\n",
       "    <tr>\n",
       "      <th>0</th>\n",
       "      <td>1998</td>\n",
       "      <td>deputado estadual</td>\n",
       "      <td>0.142012</td>\n",
       "      <td>0.083333</td>\n",
       "    </tr>\n",
       "    <tr>\n",
       "      <th>1</th>\n",
       "      <td>1999</td>\n",
       "      <td>deputado estadual</td>\n",
       "      <td>0.142012</td>\n",
       "      <td>0.083333</td>\n",
       "    </tr>\n",
       "    <tr>\n",
       "      <th>2</th>\n",
       "      <td>2000</td>\n",
       "      <td>deputado estadual</td>\n",
       "      <td>0.142012</td>\n",
       "      <td>0.083333</td>\n",
       "    </tr>\n",
       "    <tr>\n",
       "      <th>3</th>\n",
       "      <td>2001</td>\n",
       "      <td>deputado estadual</td>\n",
       "      <td>0.142012</td>\n",
       "      <td>0.083333</td>\n",
       "    </tr>\n",
       "    <tr>\n",
       "      <th>4</th>\n",
       "      <td>2002</td>\n",
       "      <td>deputado estadual</td>\n",
       "      <td>0.142012</td>\n",
       "      <td>0.083333</td>\n",
       "    </tr>\n",
       "    <tr>\n",
       "      <th>...</th>\n",
       "      <td>...</td>\n",
       "      <td>...</td>\n",
       "      <td>...</td>\n",
       "      <td>...</td>\n",
       "    </tr>\n",
       "    <tr>\n",
       "      <th>3995</th>\n",
       "      <td>2018</td>\n",
       "      <td>vereador</td>\n",
       "      <td>0.335921</td>\n",
       "      <td>0.155914</td>\n",
       "    </tr>\n",
       "    <tr>\n",
       "      <th>3996</th>\n",
       "      <td>2019</td>\n",
       "      <td>vereador</td>\n",
       "      <td>0.335921</td>\n",
       "      <td>0.155914</td>\n",
       "    </tr>\n",
       "    <tr>\n",
       "      <th>3997</th>\n",
       "      <td>2020</td>\n",
       "      <td>vereador</td>\n",
       "      <td>0.361334</td>\n",
       "      <td>0.174445</td>\n",
       "    </tr>\n",
       "    <tr>\n",
       "      <th>3998</th>\n",
       "      <td>2021</td>\n",
       "      <td>vereador</td>\n",
       "      <td>0.361334</td>\n",
       "      <td>0.174445</td>\n",
       "    </tr>\n",
       "    <tr>\n",
       "      <th>3999</th>\n",
       "      <td>2022</td>\n",
       "      <td>vereador</td>\n",
       "      <td>0.361334</td>\n",
       "      <td>0.174445</td>\n",
       "    </tr>\n",
       "  </tbody>\n",
       "</table>\n",
       "<p>4000 rows × 4 columns</p>\n",
       "</div>"
      ],
      "text/plain": [
       "       ano          cargo_std  prop_candidatas  prop_eleitas\n",
       "0     1998  deputado estadual         0.142012      0.083333\n",
       "1     1999  deputado estadual         0.142012      0.083333\n",
       "2     2000  deputado estadual         0.142012      0.083333\n",
       "3     2001  deputado estadual         0.142012      0.083333\n",
       "4     2002  deputado estadual         0.142012      0.083333\n",
       "...    ...                ...              ...           ...\n",
       "3995  2018           vereador         0.335921      0.155914\n",
       "3996  2019           vereador         0.335921      0.155914\n",
       "3997  2020           vereador         0.361334      0.174445\n",
       "3998  2021           vereador         0.361334      0.174445\n",
       "3999  2022           vereador         0.361334      0.174445\n",
       "\n",
       "[4000 rows x 4 columns]"
      ]
     },
     "metadata": {},
     "output_type": "display_data"
    }
   ],
   "source": [
    "display(panel_pd)"
   ]
  },
  {
   "cell_type": "markdown",
   "metadata": {
    "application/vnd.databricks.v1+cell": {
     "cellMetadata": {},
     "inputWidgets": {},
     "nuid": "248eff33-9197-438a-9f53-44405e5cbb1f",
     "showTitle": false,
     "tableResultSettingsMap": {},
     "title": ""
    }
   },
   "source": [
    "### Plote Proporção de candidatas"
   ]
  },
  {
   "cell_type": "code",
   "execution_count": 0,
   "metadata": {
    "application/vnd.databricks.v1+cell": {
     "cellMetadata": {
      "byteLimit": 2048000,
      "rowLimit": 10000
     },
     "inputWidgets": {},
     "nuid": "96693222-aa0f-494b-8a4e-afaf30623b8e",
     "showTitle": false,
     "tableResultSettingsMap": {},
     "title": ""
    }
   },
   "outputs": [
    {
     "name": "stderr",
     "output_type": "stream",
     "text": [
      "/databricks/python/lib/python3.11/site-packages/plotly/express/_core.py:1979: FutureWarning: When grouping with a length-1 list-like, you will need to pass a length-1 tuple to get_group in a future version of pandas. Pass `(name,)` instead of `name` to silence this warning.\n",
      "  sf: grouped.get_group(s if len(s) > 1 else s[0])\n"
     ]
    },
    {
     "data": {
      "text/html": [
       "<html>\n",
       "<head><meta charset=\"utf-8\" /></head>\n",
       "<body>\n",
       "    <div>            <script src=\"https://cdnjs.cloudflare.com/ajax/libs/mathjax/2.7.5/MathJax.js?config=TeX-AMS-MML_SVG\"></script><script type=\"text/javascript\">if (window.MathJax && window.MathJax.Hub && window.MathJax.Hub.Config) {window.MathJax.Hub.Config({SVG: {font: \"STIX-Web\"}});}</script>                <script type=\"text/javascript\">window.PlotlyConfig = {MathJaxConfig: 'local'};</script>\n",
       "        <script src=\"https://cdn.plot.ly/plotly-2.12.1.min.js\"></script>                <div id=\"e038e2a9-f4e7-422d-8462-f1a62a286f8a\" class=\"plotly-graph-div\" style=\"height:600px; width:100%;\"></div>            <script type=\"text/javascript\">                                    window.PLOTLYENV=window.PLOTLYENV || {};                                    if (document.getElementById(\"e038e2a9-f4e7-422d-8462-f1a62a286f8a\")) {                    Plotly.newPlot(                        \"e038e2a9-f4e7-422d-8462-f1a62a286f8a\",                        [{\"hovertemplate\":\"%{x}<br>M\\u00e9dia: %{y:.2%}<extra></extra>\",\"legendgroup\":\"Controle\",\"line\":{\"color\":\"#636efa\",\"dash\":\"solid\"},\"marker\":{\"symbol\":\"circle\"},\"mode\":\"lines+markers\",\"name\":\"Controle\",\"orientation\":\"v\",\"showlegend\":true,\"x\":[1998,1999,2000,2001,2002,2003,2004,2005,2006,2007,2008,2009,2010,2011,2012,2013,2014,2015,2016,2017,2018,2019,2020,2021,2022],\"xaxis\":\"x\",\"y\":[0.17066168753386574,0.17066168753386574,0.17066168753386574,0.17066168753386574,0.17066168753386574,0.17066168753386574,0.17066168753386574,0.17066168753386574,0.16775736888186998,0.16775736888186998,0.1716376804016025,0.1716376804016025,0.16051198981945908,0.16051198981945908,0.166498076556932,0.166498076556932,0.19285081254914513,0.19285081254914513,0.19490669398737145,0.19490669398737145,0.19856166491336222,0.19856166491336222,0.20368829799885768,0.20368829799885768,0.23718343021012767],\"yaxis\":\"y\",\"type\":\"scatter\"},{\"hovertemplate\":\"%{x}<br>M\\u00e9dia: %{y:.2%}<extra></extra>\",\"legendgroup\":\"Tratado\",\"line\":{\"color\":\"#EF553B\",\"dash\":\"solid\"},\"marker\":{\"symbol\":\"circle\"},\"mode\":\"lines+markers\",\"name\":\"Tratado\",\"orientation\":\"v\",\"showlegend\":true,\"x\":[1998,1999,2000,2001,2002,2003,2004,2005,2006,2007,2008,2009,2010,2011,2012,2013,2014,2015,2016,2017,2018,2019,2020,2021,2022],\"xaxis\":\"x\",\"y\":[0.16175110685653923,0.16175110685653923,0.16175110685653923,0.16175110685653923,0.16175110685653923,0.16175110685653923,0.16175110685653923,0.16175110685653923,0.16352500718308374,0.16352500718308374,0.1631581435028938,0.1631581435028938,0.20982904372667663,0.20982904372667663,0.2420406389716417,0.2420406389716417,0.3064557733619872,0.3064557733619872,0.3085253075024573,0.3085253075024573,0.32028318496173586,0.32028318496173586,0.32818712228598595,0.32818712228598595,0.3524651121808248],\"yaxis\":\"y\",\"type\":\"scatter\"}],                        {\"template\":{\"data\":{\"barpolar\":[{\"marker\":{\"line\":{\"color\":\"white\",\"width\":0.5},\"pattern\":{\"fillmode\":\"overlay\",\"size\":10,\"solidity\":0.2}},\"type\":\"barpolar\"}],\"bar\":[{\"error_x\":{\"color\":\"rgb(36,36,36)\"},\"error_y\":{\"color\":\"rgb(36,36,36)\"},\"marker\":{\"line\":{\"color\":\"white\",\"width\":0.5},\"pattern\":{\"fillmode\":\"overlay\",\"size\":10,\"solidity\":0.2}},\"type\":\"bar\"}],\"carpet\":[{\"aaxis\":{\"endlinecolor\":\"rgb(36,36,36)\",\"gridcolor\":\"white\",\"linecolor\":\"white\",\"minorgridcolor\":\"white\",\"startlinecolor\":\"rgb(36,36,36)\"},\"baxis\":{\"endlinecolor\":\"rgb(36,36,36)\",\"gridcolor\":\"white\",\"linecolor\":\"white\",\"minorgridcolor\":\"white\",\"startlinecolor\":\"rgb(36,36,36)\"},\"type\":\"carpet\"}],\"choropleth\":[{\"colorbar\":{\"outlinewidth\":1,\"tickcolor\":\"rgb(36,36,36)\",\"ticks\":\"outside\"},\"type\":\"choropleth\"}],\"contourcarpet\":[{\"colorbar\":{\"outlinewidth\":1,\"tickcolor\":\"rgb(36,36,36)\",\"ticks\":\"outside\"},\"type\":\"contourcarpet\"}],\"contour\":[{\"colorbar\":{\"outlinewidth\":1,\"tickcolor\":\"rgb(36,36,36)\",\"ticks\":\"outside\"},\"colorscale\":[[0.0,\"#440154\"],[0.1111111111111111,\"#482878\"],[0.2222222222222222,\"#3e4989\"],[0.3333333333333333,\"#31688e\"],[0.4444444444444444,\"#26828e\"],[0.5555555555555556,\"#1f9e89\"],[0.6666666666666666,\"#35b779\"],[0.7777777777777778,\"#6ece58\"],[0.8888888888888888,\"#b5de2b\"],[1.0,\"#fde725\"]],\"type\":\"contour\"}],\"heatmapgl\":[{\"colorbar\":{\"outlinewidth\":1,\"tickcolor\":\"rgb(36,36,36)\",\"ticks\":\"outside\"},\"colorscale\":[[0.0,\"#440154\"],[0.1111111111111111,\"#482878\"],[0.2222222222222222,\"#3e4989\"],[0.3333333333333333,\"#31688e\"],[0.4444444444444444,\"#26828e\"],[0.5555555555555556,\"#1f9e89\"],[0.6666666666666666,\"#35b779\"],[0.7777777777777778,\"#6ece58\"],[0.8888888888888888,\"#b5de2b\"],[1.0,\"#fde725\"]],\"type\":\"heatmapgl\"}],\"heatmap\":[{\"colorbar\":{\"outlinewidth\":1,\"tickcolor\":\"rgb(36,36,36)\",\"ticks\":\"outside\"},\"colorscale\":[[0.0,\"#440154\"],[0.1111111111111111,\"#482878\"],[0.2222222222222222,\"#3e4989\"],[0.3333333333333333,\"#31688e\"],[0.4444444444444444,\"#26828e\"],[0.5555555555555556,\"#1f9e89\"],[0.6666666666666666,\"#35b779\"],[0.7777777777777778,\"#6ece58\"],[0.8888888888888888,\"#b5de2b\"],[1.0,\"#fde725\"]],\"type\":\"heatmap\"}],\"histogram2dcontour\":[{\"colorbar\":{\"outlinewidth\":1,\"tickcolor\":\"rgb(36,36,36)\",\"ticks\":\"outside\"},\"colorscale\":[[0.0,\"#440154\"],[0.1111111111111111,\"#482878\"],[0.2222222222222222,\"#3e4989\"],[0.3333333333333333,\"#31688e\"],[0.4444444444444444,\"#26828e\"],[0.5555555555555556,\"#1f9e89\"],[0.6666666666666666,\"#35b779\"],[0.7777777777777778,\"#6ece58\"],[0.8888888888888888,\"#b5de2b\"],[1.0,\"#fde725\"]],\"type\":\"histogram2dcontour\"}],\"histogram2d\":[{\"colorbar\":{\"outlinewidth\":1,\"tickcolor\":\"rgb(36,36,36)\",\"ticks\":\"outside\"},\"colorscale\":[[0.0,\"#440154\"],[0.1111111111111111,\"#482878\"],[0.2222222222222222,\"#3e4989\"],[0.3333333333333333,\"#31688e\"],[0.4444444444444444,\"#26828e\"],[0.5555555555555556,\"#1f9e89\"],[0.6666666666666666,\"#35b779\"],[0.7777777777777778,\"#6ece58\"],[0.8888888888888888,\"#b5de2b\"],[1.0,\"#fde725\"]],\"type\":\"histogram2d\"}],\"histogram\":[{\"marker\":{\"line\":{\"color\":\"white\",\"width\":0.6}},\"type\":\"histogram\"}],\"mesh3d\":[{\"colorbar\":{\"outlinewidth\":1,\"tickcolor\":\"rgb(36,36,36)\",\"ticks\":\"outside\"},\"type\":\"mesh3d\"}],\"parcoords\":[{\"line\":{\"colorbar\":{\"outlinewidth\":1,\"tickcolor\":\"rgb(36,36,36)\",\"ticks\":\"outside\"}},\"type\":\"parcoords\"}],\"pie\":[{\"automargin\":true,\"type\":\"pie\"}],\"scatter3d\":[{\"line\":{\"colorbar\":{\"outlinewidth\":1,\"tickcolor\":\"rgb(36,36,36)\",\"ticks\":\"outside\"}},\"marker\":{\"colorbar\":{\"outlinewidth\":1,\"tickcolor\":\"rgb(36,36,36)\",\"ticks\":\"outside\"}},\"type\":\"scatter3d\"}],\"scattercarpet\":[{\"marker\":{\"colorbar\":{\"outlinewidth\":1,\"tickcolor\":\"rgb(36,36,36)\",\"ticks\":\"outside\"}},\"type\":\"scattercarpet\"}],\"scattergeo\":[{\"marker\":{\"colorbar\":{\"outlinewidth\":1,\"tickcolor\":\"rgb(36,36,36)\",\"ticks\":\"outside\"}},\"type\":\"scattergeo\"}],\"scattergl\":[{\"marker\":{\"colorbar\":{\"outlinewidth\":1,\"tickcolor\":\"rgb(36,36,36)\",\"ticks\":\"outside\"}},\"type\":\"scattergl\"}],\"scattermapbox\":[{\"marker\":{\"colorbar\":{\"outlinewidth\":1,\"tickcolor\":\"rgb(36,36,36)\",\"ticks\":\"outside\"}},\"type\":\"scattermapbox\"}],\"scatterpolargl\":[{\"marker\":{\"colorbar\":{\"outlinewidth\":1,\"tickcolor\":\"rgb(36,36,36)\",\"ticks\":\"outside\"}},\"type\":\"scatterpolargl\"}],\"scatterpolar\":[{\"marker\":{\"colorbar\":{\"outlinewidth\":1,\"tickcolor\":\"rgb(36,36,36)\",\"ticks\":\"outside\"}},\"type\":\"scatterpolar\"}],\"scatter\":[{\"fillpattern\":{\"fillmode\":\"overlay\",\"size\":10,\"solidity\":0.2},\"type\":\"scatter\"}],\"scatterternary\":[{\"marker\":{\"colorbar\":{\"outlinewidth\":1,\"tickcolor\":\"rgb(36,36,36)\",\"ticks\":\"outside\"}},\"type\":\"scatterternary\"}],\"surface\":[{\"colorbar\":{\"outlinewidth\":1,\"tickcolor\":\"rgb(36,36,36)\",\"ticks\":\"outside\"},\"colorscale\":[[0.0,\"#440154\"],[0.1111111111111111,\"#482878\"],[0.2222222222222222,\"#3e4989\"],[0.3333333333333333,\"#31688e\"],[0.4444444444444444,\"#26828e\"],[0.5555555555555556,\"#1f9e89\"],[0.6666666666666666,\"#35b779\"],[0.7777777777777778,\"#6ece58\"],[0.8888888888888888,\"#b5de2b\"],[1.0,\"#fde725\"]],\"type\":\"surface\"}],\"table\":[{\"cells\":{\"fill\":{\"color\":\"rgb(237,237,237)\"},\"line\":{\"color\":\"white\"}},\"header\":{\"fill\":{\"color\":\"rgb(217,217,217)\"},\"line\":{\"color\":\"white\"}},\"type\":\"table\"}]},\"layout\":{\"annotationdefaults\":{\"arrowhead\":0,\"arrowwidth\":1},\"autotypenumbers\":\"strict\",\"coloraxis\":{\"colorbar\":{\"outlinewidth\":1,\"tickcolor\":\"rgb(36,36,36)\",\"ticks\":\"outside\"}},\"colorscale\":{\"diverging\":[[0.0,\"rgb(103,0,31)\"],[0.1,\"rgb(178,24,43)\"],[0.2,\"rgb(214,96,77)\"],[0.3,\"rgb(244,165,130)\"],[0.4,\"rgb(253,219,199)\"],[0.5,\"rgb(247,247,247)\"],[0.6,\"rgb(209,229,240)\"],[0.7,\"rgb(146,197,222)\"],[0.8,\"rgb(67,147,195)\"],[0.9,\"rgb(33,102,172)\"],[1.0,\"rgb(5,48,97)\"]],\"sequential\":[[0.0,\"#440154\"],[0.1111111111111111,\"#482878\"],[0.2222222222222222,\"#3e4989\"],[0.3333333333333333,\"#31688e\"],[0.4444444444444444,\"#26828e\"],[0.5555555555555556,\"#1f9e89\"],[0.6666666666666666,\"#35b779\"],[0.7777777777777778,\"#6ece58\"],[0.8888888888888888,\"#b5de2b\"],[1.0,\"#fde725\"]],\"sequentialminus\":[[0.0,\"#440154\"],[0.1111111111111111,\"#482878\"],[0.2222222222222222,\"#3e4989\"],[0.3333333333333333,\"#31688e\"],[0.4444444444444444,\"#26828e\"],[0.5555555555555556,\"#1f9e89\"],[0.6666666666666666,\"#35b779\"],[0.7777777777777778,\"#6ece58\"],[0.8888888888888888,\"#b5de2b\"],[1.0,\"#fde725\"]]},\"colorway\":[\"#1F77B4\",\"#FF7F0E\",\"#2CA02C\",\"#D62728\",\"#9467BD\",\"#8C564B\",\"#E377C2\",\"#7F7F7F\",\"#BCBD22\",\"#17BECF\"],\"font\":{\"color\":\"rgb(36,36,36)\"},\"geo\":{\"bgcolor\":\"white\",\"lakecolor\":\"white\",\"landcolor\":\"white\",\"showlakes\":true,\"showland\":true,\"subunitcolor\":\"white\"},\"hoverlabel\":{\"align\":\"left\"},\"hovermode\":\"closest\",\"mapbox\":{\"style\":\"light\"},\"paper_bgcolor\":\"white\",\"plot_bgcolor\":\"white\",\"polar\":{\"angularaxis\":{\"gridcolor\":\"rgb(232,232,232)\",\"linecolor\":\"rgb(36,36,36)\",\"showgrid\":false,\"showline\":true,\"ticks\":\"outside\"},\"bgcolor\":\"white\",\"radialaxis\":{\"gridcolor\":\"rgb(232,232,232)\",\"linecolor\":\"rgb(36,36,36)\",\"showgrid\":false,\"showline\":true,\"ticks\":\"outside\"}},\"scene\":{\"xaxis\":{\"backgroundcolor\":\"white\",\"gridcolor\":\"rgb(232,232,232)\",\"gridwidth\":2,\"linecolor\":\"rgb(36,36,36)\",\"showbackground\":true,\"showgrid\":false,\"showline\":true,\"ticks\":\"outside\",\"zeroline\":false,\"zerolinecolor\":\"rgb(36,36,36)\"},\"yaxis\":{\"backgroundcolor\":\"white\",\"gridcolor\":\"rgb(232,232,232)\",\"gridwidth\":2,\"linecolor\":\"rgb(36,36,36)\",\"showbackground\":true,\"showgrid\":false,\"showline\":true,\"ticks\":\"outside\",\"zeroline\":false,\"zerolinecolor\":\"rgb(36,36,36)\"},\"zaxis\":{\"backgroundcolor\":\"white\",\"gridcolor\":\"rgb(232,232,232)\",\"gridwidth\":2,\"linecolor\":\"rgb(36,36,36)\",\"showbackground\":true,\"showgrid\":false,\"showline\":true,\"ticks\":\"outside\",\"zeroline\":false,\"zerolinecolor\":\"rgb(36,36,36)\"}},\"shapedefaults\":{\"fillcolor\":\"black\",\"line\":{\"width\":0},\"opacity\":0.3},\"ternary\":{\"aaxis\":{\"gridcolor\":\"rgb(232,232,232)\",\"linecolor\":\"rgb(36,36,36)\",\"showgrid\":false,\"showline\":true,\"ticks\":\"outside\"},\"baxis\":{\"gridcolor\":\"rgb(232,232,232)\",\"linecolor\":\"rgb(36,36,36)\",\"showgrid\":false,\"showline\":true,\"ticks\":\"outside\"},\"bgcolor\":\"white\",\"caxis\":{\"gridcolor\":\"rgb(232,232,232)\",\"linecolor\":\"rgb(36,36,36)\",\"showgrid\":false,\"showline\":true,\"ticks\":\"outside\"}},\"title\":{\"x\":0.05},\"xaxis\":{\"automargin\":true,\"gridcolor\":\"rgb(232,232,232)\",\"linecolor\":\"rgb(36,36,36)\",\"showgrid\":false,\"showline\":true,\"ticks\":\"outside\",\"title\":{\"standoff\":15},\"zeroline\":false,\"zerolinecolor\":\"rgb(36,36,36)\"},\"yaxis\":{\"automargin\":true,\"gridcolor\":\"rgb(232,232,232)\",\"linecolor\":\"rgb(36,36,36)\",\"showgrid\":false,\"showline\":true,\"ticks\":\"outside\",\"title\":{\"standoff\":15},\"zeroline\":false,\"zerolinecolor\":\"rgb(36,36,36)\"}}},\"xaxis\":{\"anchor\":\"y\",\"domain\":[0.0,1.0],\"title\":{\"text\":\"Ano\"}},\"yaxis\":{\"anchor\":\"x\",\"domain\":[0.0,1.0],\"title\":{\"text\":\"M\\u00e9dia de prop_candidatas\"},\"tickformat\":\".0%\"},\"legend\":{\"title\":{\"text\":\"Grupo\"},\"tracegroupgap\":0},\"title\":{\"text\":\" \\u2013 prop_candidatas\"},\"shapes\":[{\"line\":{\"color\":\"red\",\"dash\":\"dash\",\"width\":2},\"type\":\"line\",\"x0\":2009,\"x1\":2009,\"xref\":\"x\",\"y0\":0,\"y1\":1,\"yref\":\"y domain\"}],\"annotations\":[{\"font\":{\"color\":\"red\"},\"showarrow\":false,\"text\":\"Lei N\\u00ba 12.034 / 2009\",\"x\":2009,\"xref\":\"x\",\"y\":1.02,\"yanchor\":\"bottom\",\"yref\":\"paper\"}],\"margin\":{\"l\":40,\"r\":20,\"t\":60,\"b\":40},\"height\":600},                        {\"responsive\": true}                    )                };                            </script>        </div>\n",
       "</body>\n",
       "</html>"
      ]
     },
     "metadata": {},
     "output_type": "display_data"
    }
   ],
   "source": [
    "# Plotar prop_candidatas:\n",
    "fig1 = plot_parallel_trends(panel_pd, var=\"prop_candidatas\")\n",
    "fig1\n",
    "\n"
   ]
  },
  {
   "cell_type": "markdown",
   "metadata": {
    "application/vnd.databricks.v1+cell": {
     "cellMetadata": {},
     "inputWidgets": {},
     "nuid": "ec0e94bb-2f72-4bfe-9814-83d479b29024",
     "showTitle": false,
     "tableResultSettingsMap": {},
     "title": ""
    }
   },
   "source": [
    "### Plote Proporção de Eleitas"
   ]
  },
  {
   "cell_type": "code",
   "execution_count": 0,
   "metadata": {
    "application/vnd.databricks.v1+cell": {
     "cellMetadata": {
      "byteLimit": 2048000,
      "rowLimit": 10000
     },
     "inputWidgets": {},
     "nuid": "8016f20c-e729-4fca-bc1b-8986d6bad560",
     "showTitle": false,
     "tableResultSettingsMap": {},
     "title": ""
    }
   },
   "outputs": [
    {
     "name": "stderr",
     "output_type": "stream",
     "text": [
      "/databricks/python/lib/python3.11/site-packages/plotly/express/_core.py:1979: FutureWarning:\n",
      "\n",
      "When grouping with a length-1 list-like, you will need to pass a length-1 tuple to get_group in a future version of pandas. Pass `(name,)` instead of `name` to silence this warning.\n",
      "\n"
     ]
    },
    {
     "data": {
      "text/html": [
       "<html>\n",
       "<head><meta charset=\"utf-8\" /></head>\n",
       "<body>\n",
       "    <div>            <script src=\"https://cdnjs.cloudflare.com/ajax/libs/mathjax/2.7.5/MathJax.js?config=TeX-AMS-MML_SVG\"></script><script type=\"text/javascript\">if (window.MathJax && window.MathJax.Hub && window.MathJax.Hub.Config) {window.MathJax.Hub.Config({SVG: {font: \"STIX-Web\"}});}</script>                <script type=\"text/javascript\">window.PlotlyConfig = {MathJaxConfig: 'local'};</script>\n",
       "        <script src=\"https://cdn.plot.ly/plotly-2.12.1.min.js\"></script>                <div id=\"184a77b4-05c8-486e-9e15-fcc425114822\" class=\"plotly-graph-div\" style=\"height:600px; width:100%;\"></div>            <script type=\"text/javascript\">                                    window.PLOTLYENV=window.PLOTLYENV || {};                                    if (document.getElementById(\"184a77b4-05c8-486e-9e15-fcc425114822\")) {                    Plotly.newPlot(                        \"184a77b4-05c8-486e-9e15-fcc425114822\",                        [{\"hovertemplate\":\"%{x}<br>M\\u00e9dia: %{y:.2%}<extra></extra>\",\"legendgroup\":\"Controle\",\"line\":{\"color\":\"#636efa\",\"dash\":\"solid\"},\"marker\":{\"symbol\":\"circle\"},\"mode\":\"lines+markers\",\"name\":\"Controle\",\"orientation\":\"v\",\"showlegend\":true,\"x\":[1998,1999,2000,2001,2002,2003,2004,2005,2006,2007,2008,2009,2010,2011,2012,2013,2014,2015,2016,2017,2018,2019,2020,2021,2022],\"xaxis\":\"x\",\"y\":[0.1064057562696004,0.1064057562696004,0.1064057562696004,0.1064057562696004,0.1064057562696004,0.1064057562696004,0.1064057562696004,0.1064057562696004,0.1189057562696004,0.1189057562696004,0.12188695674133154,0.12188695674133154,0.10313695674133154,0.10313695674133154,0.10862720139998258,0.10862720139998258,0.11737720139998258,0.11737720139998258,0.1197181748416039,0.1197181748416039,0.0922181748416039,0.0922181748416039,0.0932959499107895,0.0932959499107895,0.11829594991078951],\"yaxis\":\"y\",\"type\":\"scatter\"},{\"hovertemplate\":\"%{x}<br>M\\u00e9dia: %{y:.2%}<extra></extra>\",\"legendgroup\":\"Tratado\",\"line\":{\"color\":\"#EF553B\",\"dash\":\"solid\"},\"marker\":{\"symbol\":\"circle\"},\"mode\":\"lines+markers\",\"name\":\"Tratado\",\"orientation\":\"v\",\"showlegend\":true,\"x\":[1998,1999,2000,2001,2002,2003,2004,2005,2006,2007,2008,2009,2010,2011,2012,2013,2014,2015,2016,2017,2018,2019,2020,2021,2022],\"xaxis\":\"x\",\"y\":[0.1189241179719267,0.1189241179719267,0.1189241179719267,0.1189241179719267,0.1189241179719267,0.1189241179719267,0.1189241179719267,0.1189241179719267,0.12086633266379614,0.12086633266379614,0.12097019565440292,0.12097019565440292,0.1291216074448121,0.1291216074448121,0.1312107989165909,0.1312107989165909,0.12589354808206826,0.12589354808206826,0.12578051530697965,0.12578051530697965,0.1600239524934392,0.1600239524934392,0.16816443400013467,0.16816443400013467,0.17087125771848993],\"yaxis\":\"y\",\"type\":\"scatter\"}],                        {\"template\":{\"data\":{\"barpolar\":[{\"marker\":{\"line\":{\"color\":\"white\",\"width\":0.5},\"pattern\":{\"fillmode\":\"overlay\",\"size\":10,\"solidity\":0.2}},\"type\":\"barpolar\"}],\"bar\":[{\"error_x\":{\"color\":\"rgb(36,36,36)\"},\"error_y\":{\"color\":\"rgb(36,36,36)\"},\"marker\":{\"line\":{\"color\":\"white\",\"width\":0.5},\"pattern\":{\"fillmode\":\"overlay\",\"size\":10,\"solidity\":0.2}},\"type\":\"bar\"}],\"carpet\":[{\"aaxis\":{\"endlinecolor\":\"rgb(36,36,36)\",\"gridcolor\":\"white\",\"linecolor\":\"white\",\"minorgridcolor\":\"white\",\"startlinecolor\":\"rgb(36,36,36)\"},\"baxis\":{\"endlinecolor\":\"rgb(36,36,36)\",\"gridcolor\":\"white\",\"linecolor\":\"white\",\"minorgridcolor\":\"white\",\"startlinecolor\":\"rgb(36,36,36)\"},\"type\":\"carpet\"}],\"choropleth\":[{\"colorbar\":{\"outlinewidth\":1,\"tickcolor\":\"rgb(36,36,36)\",\"ticks\":\"outside\"},\"type\":\"choropleth\"}],\"contourcarpet\":[{\"colorbar\":{\"outlinewidth\":1,\"tickcolor\":\"rgb(36,36,36)\",\"ticks\":\"outside\"},\"type\":\"contourcarpet\"}],\"contour\":[{\"colorbar\":{\"outlinewidth\":1,\"tickcolor\":\"rgb(36,36,36)\",\"ticks\":\"outside\"},\"colorscale\":[[0.0,\"#440154\"],[0.1111111111111111,\"#482878\"],[0.2222222222222222,\"#3e4989\"],[0.3333333333333333,\"#31688e\"],[0.4444444444444444,\"#26828e\"],[0.5555555555555556,\"#1f9e89\"],[0.6666666666666666,\"#35b779\"],[0.7777777777777778,\"#6ece58\"],[0.8888888888888888,\"#b5de2b\"],[1.0,\"#fde725\"]],\"type\":\"contour\"}],\"heatmapgl\":[{\"colorbar\":{\"outlinewidth\":1,\"tickcolor\":\"rgb(36,36,36)\",\"ticks\":\"outside\"},\"colorscale\":[[0.0,\"#440154\"],[0.1111111111111111,\"#482878\"],[0.2222222222222222,\"#3e4989\"],[0.3333333333333333,\"#31688e\"],[0.4444444444444444,\"#26828e\"],[0.5555555555555556,\"#1f9e89\"],[0.6666666666666666,\"#35b779\"],[0.7777777777777778,\"#6ece58\"],[0.8888888888888888,\"#b5de2b\"],[1.0,\"#fde725\"]],\"type\":\"heatmapgl\"}],\"heatmap\":[{\"colorbar\":{\"outlinewidth\":1,\"tickcolor\":\"rgb(36,36,36)\",\"ticks\":\"outside\"},\"colorscale\":[[0.0,\"#440154\"],[0.1111111111111111,\"#482878\"],[0.2222222222222222,\"#3e4989\"],[0.3333333333333333,\"#31688e\"],[0.4444444444444444,\"#26828e\"],[0.5555555555555556,\"#1f9e89\"],[0.6666666666666666,\"#35b779\"],[0.7777777777777778,\"#6ece58\"],[0.8888888888888888,\"#b5de2b\"],[1.0,\"#fde725\"]],\"type\":\"heatmap\"}],\"histogram2dcontour\":[{\"colorbar\":{\"outlinewidth\":1,\"tickcolor\":\"rgb(36,36,36)\",\"ticks\":\"outside\"},\"colorscale\":[[0.0,\"#440154\"],[0.1111111111111111,\"#482878\"],[0.2222222222222222,\"#3e4989\"],[0.3333333333333333,\"#31688e\"],[0.4444444444444444,\"#26828e\"],[0.5555555555555556,\"#1f9e89\"],[0.6666666666666666,\"#35b779\"],[0.7777777777777778,\"#6ece58\"],[0.8888888888888888,\"#b5de2b\"],[1.0,\"#fde725\"]],\"type\":\"histogram2dcontour\"}],\"histogram2d\":[{\"colorbar\":{\"outlinewidth\":1,\"tickcolor\":\"rgb(36,36,36)\",\"ticks\":\"outside\"},\"colorscale\":[[0.0,\"#440154\"],[0.1111111111111111,\"#482878\"],[0.2222222222222222,\"#3e4989\"],[0.3333333333333333,\"#31688e\"],[0.4444444444444444,\"#26828e\"],[0.5555555555555556,\"#1f9e89\"],[0.6666666666666666,\"#35b779\"],[0.7777777777777778,\"#6ece58\"],[0.8888888888888888,\"#b5de2b\"],[1.0,\"#fde725\"]],\"type\":\"histogram2d\"}],\"histogram\":[{\"marker\":{\"line\":{\"color\":\"white\",\"width\":0.6}},\"type\":\"histogram\"}],\"mesh3d\":[{\"colorbar\":{\"outlinewidth\":1,\"tickcolor\":\"rgb(36,36,36)\",\"ticks\":\"outside\"},\"type\":\"mesh3d\"}],\"parcoords\":[{\"line\":{\"colorbar\":{\"outlinewidth\":1,\"tickcolor\":\"rgb(36,36,36)\",\"ticks\":\"outside\"}},\"type\":\"parcoords\"}],\"pie\":[{\"automargin\":true,\"type\":\"pie\"}],\"scatter3d\":[{\"line\":{\"colorbar\":{\"outlinewidth\":1,\"tickcolor\":\"rgb(36,36,36)\",\"ticks\":\"outside\"}},\"marker\":{\"colorbar\":{\"outlinewidth\":1,\"tickcolor\":\"rgb(36,36,36)\",\"ticks\":\"outside\"}},\"type\":\"scatter3d\"}],\"scattercarpet\":[{\"marker\":{\"colorbar\":{\"outlinewidth\":1,\"tickcolor\":\"rgb(36,36,36)\",\"ticks\":\"outside\"}},\"type\":\"scattercarpet\"}],\"scattergeo\":[{\"marker\":{\"colorbar\":{\"outlinewidth\":1,\"tickcolor\":\"rgb(36,36,36)\",\"ticks\":\"outside\"}},\"type\":\"scattergeo\"}],\"scattergl\":[{\"marker\":{\"colorbar\":{\"outlinewidth\":1,\"tickcolor\":\"rgb(36,36,36)\",\"ticks\":\"outside\"}},\"type\":\"scattergl\"}],\"scattermapbox\":[{\"marker\":{\"colorbar\":{\"outlinewidth\":1,\"tickcolor\":\"rgb(36,36,36)\",\"ticks\":\"outside\"}},\"type\":\"scattermapbox\"}],\"scatterpolargl\":[{\"marker\":{\"colorbar\":{\"outlinewidth\":1,\"tickcolor\":\"rgb(36,36,36)\",\"ticks\":\"outside\"}},\"type\":\"scatterpolargl\"}],\"scatterpolar\":[{\"marker\":{\"colorbar\":{\"outlinewidth\":1,\"tickcolor\":\"rgb(36,36,36)\",\"ticks\":\"outside\"}},\"type\":\"scatterpolar\"}],\"scatter\":[{\"fillpattern\":{\"fillmode\":\"overlay\",\"size\":10,\"solidity\":0.2},\"type\":\"scatter\"}],\"scatterternary\":[{\"marker\":{\"colorbar\":{\"outlinewidth\":1,\"tickcolor\":\"rgb(36,36,36)\",\"ticks\":\"outside\"}},\"type\":\"scatterternary\"}],\"surface\":[{\"colorbar\":{\"outlinewidth\":1,\"tickcolor\":\"rgb(36,36,36)\",\"ticks\":\"outside\"},\"colorscale\":[[0.0,\"#440154\"],[0.1111111111111111,\"#482878\"],[0.2222222222222222,\"#3e4989\"],[0.3333333333333333,\"#31688e\"],[0.4444444444444444,\"#26828e\"],[0.5555555555555556,\"#1f9e89\"],[0.6666666666666666,\"#35b779\"],[0.7777777777777778,\"#6ece58\"],[0.8888888888888888,\"#b5de2b\"],[1.0,\"#fde725\"]],\"type\":\"surface\"}],\"table\":[{\"cells\":{\"fill\":{\"color\":\"rgb(237,237,237)\"},\"line\":{\"color\":\"white\"}},\"header\":{\"fill\":{\"color\":\"rgb(217,217,217)\"},\"line\":{\"color\":\"white\"}},\"type\":\"table\"}]},\"layout\":{\"annotationdefaults\":{\"arrowhead\":0,\"arrowwidth\":1},\"autotypenumbers\":\"strict\",\"coloraxis\":{\"colorbar\":{\"outlinewidth\":1,\"tickcolor\":\"rgb(36,36,36)\",\"ticks\":\"outside\"}},\"colorscale\":{\"diverging\":[[0.0,\"rgb(103,0,31)\"],[0.1,\"rgb(178,24,43)\"],[0.2,\"rgb(214,96,77)\"],[0.3,\"rgb(244,165,130)\"],[0.4,\"rgb(253,219,199)\"],[0.5,\"rgb(247,247,247)\"],[0.6,\"rgb(209,229,240)\"],[0.7,\"rgb(146,197,222)\"],[0.8,\"rgb(67,147,195)\"],[0.9,\"rgb(33,102,172)\"],[1.0,\"rgb(5,48,97)\"]],\"sequential\":[[0.0,\"#440154\"],[0.1111111111111111,\"#482878\"],[0.2222222222222222,\"#3e4989\"],[0.3333333333333333,\"#31688e\"],[0.4444444444444444,\"#26828e\"],[0.5555555555555556,\"#1f9e89\"],[0.6666666666666666,\"#35b779\"],[0.7777777777777778,\"#6ece58\"],[0.8888888888888888,\"#b5de2b\"],[1.0,\"#fde725\"]],\"sequentialminus\":[[0.0,\"#440154\"],[0.1111111111111111,\"#482878\"],[0.2222222222222222,\"#3e4989\"],[0.3333333333333333,\"#31688e\"],[0.4444444444444444,\"#26828e\"],[0.5555555555555556,\"#1f9e89\"],[0.6666666666666666,\"#35b779\"],[0.7777777777777778,\"#6ece58\"],[0.8888888888888888,\"#b5de2b\"],[1.0,\"#fde725\"]]},\"colorway\":[\"#1F77B4\",\"#FF7F0E\",\"#2CA02C\",\"#D62728\",\"#9467BD\",\"#8C564B\",\"#E377C2\",\"#7F7F7F\",\"#BCBD22\",\"#17BECF\"],\"font\":{\"color\":\"rgb(36,36,36)\"},\"geo\":{\"bgcolor\":\"white\",\"lakecolor\":\"white\",\"landcolor\":\"white\",\"showlakes\":true,\"showland\":true,\"subunitcolor\":\"white\"},\"hoverlabel\":{\"align\":\"left\"},\"hovermode\":\"closest\",\"mapbox\":{\"style\":\"light\"},\"paper_bgcolor\":\"white\",\"plot_bgcolor\":\"white\",\"polar\":{\"angularaxis\":{\"gridcolor\":\"rgb(232,232,232)\",\"linecolor\":\"rgb(36,36,36)\",\"showgrid\":false,\"showline\":true,\"ticks\":\"outside\"},\"bgcolor\":\"white\",\"radialaxis\":{\"gridcolor\":\"rgb(232,232,232)\",\"linecolor\":\"rgb(36,36,36)\",\"showgrid\":false,\"showline\":true,\"ticks\":\"outside\"}},\"scene\":{\"xaxis\":{\"backgroundcolor\":\"white\",\"gridcolor\":\"rgb(232,232,232)\",\"gridwidth\":2,\"linecolor\":\"rgb(36,36,36)\",\"showbackground\":true,\"showgrid\":false,\"showline\":true,\"ticks\":\"outside\",\"zeroline\":false,\"zerolinecolor\":\"rgb(36,36,36)\"},\"yaxis\":{\"backgroundcolor\":\"white\",\"gridcolor\":\"rgb(232,232,232)\",\"gridwidth\":2,\"linecolor\":\"rgb(36,36,36)\",\"showbackground\":true,\"showgrid\":false,\"showline\":true,\"ticks\":\"outside\",\"zeroline\":false,\"zerolinecolor\":\"rgb(36,36,36)\"},\"zaxis\":{\"backgroundcolor\":\"white\",\"gridcolor\":\"rgb(232,232,232)\",\"gridwidth\":2,\"linecolor\":\"rgb(36,36,36)\",\"showbackground\":true,\"showgrid\":false,\"showline\":true,\"ticks\":\"outside\",\"zeroline\":false,\"zerolinecolor\":\"rgb(36,36,36)\"}},\"shapedefaults\":{\"fillcolor\":\"black\",\"line\":{\"width\":0},\"opacity\":0.3},\"ternary\":{\"aaxis\":{\"gridcolor\":\"rgb(232,232,232)\",\"linecolor\":\"rgb(36,36,36)\",\"showgrid\":false,\"showline\":true,\"ticks\":\"outside\"},\"baxis\":{\"gridcolor\":\"rgb(232,232,232)\",\"linecolor\":\"rgb(36,36,36)\",\"showgrid\":false,\"showline\":true,\"ticks\":\"outside\"},\"bgcolor\":\"white\",\"caxis\":{\"gridcolor\":\"rgb(232,232,232)\",\"linecolor\":\"rgb(36,36,36)\",\"showgrid\":false,\"showline\":true,\"ticks\":\"outside\"}},\"title\":{\"x\":0.05},\"xaxis\":{\"automargin\":true,\"gridcolor\":\"rgb(232,232,232)\",\"linecolor\":\"rgb(36,36,36)\",\"showgrid\":false,\"showline\":true,\"ticks\":\"outside\",\"title\":{\"standoff\":15},\"zeroline\":false,\"zerolinecolor\":\"rgb(36,36,36)\"},\"yaxis\":{\"automargin\":true,\"gridcolor\":\"rgb(232,232,232)\",\"linecolor\":\"rgb(36,36,36)\",\"showgrid\":false,\"showline\":true,\"ticks\":\"outside\",\"title\":{\"standoff\":15},\"zeroline\":false,\"zerolinecolor\":\"rgb(36,36,36)\"}}},\"xaxis\":{\"anchor\":\"y\",\"domain\":[0.0,1.0],\"title\":{\"text\":\"Ano\"}},\"yaxis\":{\"anchor\":\"x\",\"domain\":[0.0,1.0],\"title\":{\"text\":\"M\\u00e9dia de prop_eleitas\"},\"tickformat\":\".0%\"},\"legend\":{\"title\":{\"text\":\"Grupo\"},\"tracegroupgap\":0},\"title\":{\"text\":\" \\u2013 prop_eleitas\"},\"shapes\":[{\"line\":{\"color\":\"red\",\"dash\":\"dash\",\"width\":2},\"type\":\"line\",\"x0\":2009,\"x1\":2009,\"xref\":\"x\",\"y0\":0,\"y1\":1,\"yref\":\"y domain\"}],\"annotations\":[{\"font\":{\"color\":\"red\"},\"showarrow\":false,\"text\":\"Lei N\\u00ba 12.034 / 2009\",\"x\":2009,\"xref\":\"x\",\"y\":1.02,\"yanchor\":\"bottom\",\"yref\":\"paper\"}],\"margin\":{\"l\":40,\"r\":20,\"t\":60,\"b\":40},\"height\":600},                        {\"responsive\": true}                    )                };                            </script>        </div>\n",
       "</body>\n",
       "</html>"
      ]
     },
     "metadata": {},
     "output_type": "display_data"
    }
   ],
   "source": [
    "# Plotar prop_eleitas:\n",
    "fig2 = plot_parallel_trends(panel_pd, var=\"prop_eleitas\")\n",
    "fig2"
   ]
  },
  {
   "cell_type": "markdown",
   "metadata": {
    "application/vnd.databricks.v1+cell": {
     "cellMetadata": {},
     "inputWidgets": {},
     "nuid": "d57ebdee-1d27-47e8-910b-d7ae33f54274",
     "showTitle": false,
     "tableResultSettingsMap": {},
     "title": ""
    }
   },
   "source": [
    "## O que explica o aumento de mulheres eleitas a partir de 2017/2018?\n",
    "\n",
    "---\n",
    "\n",
    "### 1. Resolução TSE nº 23.553/2017  \n",
    "Determinou que os partidos deveriam destinar **mínimo de 30% dos recursos do Fundo Partidário** para campanhas femininas.  \n",
    "Além disso, obrigou que pelo menos **5% do fundo fosse aplicado em programas de promoção da participação política das mulheres**.  \n",
    "\n",
    "### 2. Resolução TSE nº 23.575/2018  \n",
    "Complementou a anterior, exigindo que **30% do Fundo Eleitoral (FEFC)** também fosse reservado às candidatas.  \n",
    "> Pela primeira vez, a cota de gênero se traduziu em **financiamento real**, rompendo parcialmente a prática das “candidaturas laranjas” sem apoio.\n",
    "\n",
    "---\n",
    "\n",
    "### 3. Impacto observado em 2018  \n",
    "- **290 mulheres eleitas** (16,2% do total), contra **190 em 2014** (11,1%).  \n",
    "- Crescimento de **+52,6%** no número de mulheres eleitas em relação a 2014.  \n",
    "- Na Câmara dos Deputados: **77 mulheres** eleitas (aumento de 51%).  \n",
    "- Nas Assembleias Legislativas: **161 mulheres** (aumento de 41%).  \n",
    "\n",
    "Fonte: [TSE – Número de mulheres eleitas em 2018 cresce 52,6% em relação a 2014](https://www.tse.jus.br/comunicacao/noticias/2019/Marco/numero-de-mulheres-eleitas-em-2018-cresce-52-6-em-relacao-a-2014)\n",
    "\n",
    "---\n",
    "\n",
    "### 4. Síntese\n",
    "- O salto de 2018 não decorre de uma **nova lei** (a base segue sendo a Lei nº 12.034/2009).  \n",
    "- Ele resulta da **aplicação efetiva de recursos financeiros vinculados às candidaturas femininas** via resoluções do TSE (2017/2018).  \n",
    "- A diferença em relação ao período anterior é que, agora, as mulheres passaram a ter **financiamento garantido**, aumentando a competitividade e a taxa de sucesso eleitoral.\n",
    "\n",
    "---\n",
    "\n",
    "**Conclusão:** O crescimento de mulheres eleitas após 2017 se explica principalmente pelas resoluções do TSE que **destinaram obrigatoriamente recursos do fundo partidário e do fundo eleitoral às candidaturas femininas**. Foi a primeira vez que a cota de 30% deixou de ser apenas formal e passou a ter **lastro financeiro**, gerando impacto direto nos resultados de 2018.\n"
   ]
  },
  {
   "cell_type": "markdown",
   "metadata": {
    "application/vnd.databricks.v1+cell": {
     "cellMetadata": {},
     "inputWidgets": {},
     "nuid": "1c165661-132d-48e0-9475-a90b2b9f9eb3",
     "showTitle": false,
     "tableResultSettingsMap": {},
     "title": ""
    }
   },
   "source": [
    "### Preparar os dados para rodar um Causal Impact (package google)"
   ]
  },
  {
   "cell_type": "code",
   "execution_count": 0,
   "metadata": {
    "application/vnd.databricks.v1+cell": {
     "cellMetadata": {
      "byteLimit": 2048000,
      "rowLimit": 10000
     },
     "inputWidgets": {},
     "nuid": "e0fe55cc-4488-4c8e-9ccc-d970f5ffe80c",
     "showTitle": false,
     "tableResultSettingsMap": {},
     "title": ""
    }
   },
   "outputs": [],
   "source": [
    "treated = (\n",
    "    panel_data\n",
    "    .filter(panel_data.cargo_std.isin([\"vereador\",\"deputado federal\",\"deputado estadual\",\"deputado distrital\"]))\n",
    "    .groupBy(\"ano\")\n",
    "    .agg(F.mean(\"prop_candidatas\").alias(\"prop_candidatas_tratado\"))\n",
    "    .orderBy(\"ano\")\n",
    "    .toPandas()\n",
    "    .set_index(\"ano\")\n",
    ")\n",
    "\n",
    "controls = (\n",
    "    panel_data\n",
    "    .filter(panel_data.cargo_std.isin([\"senador\",\"governador\",\"prefeito\"]))\n",
    "    .groupBy(\"ano\",\"cargo_std\")\n",
    "    .agg(F.mean(\"prop_candidatas\").alias(\"prop_candidatas\"))\n",
    "    .toPandas()\n",
    "    .pivot(index=\"ano\", columns=\"cargo_std\", values=\"prop_candidatas\")\n",
    "    .rename(columns={\n",
    "        \"senador\": \"prop_cand_senador\",\n",
    "        \"governador\": \"prop_cand_governador\",\n",
    "        \"prefeito\": \"prop_cand_prefeito\"\n",
    "    })\n",
    ")\n",
    "\n",
    "explicativas = (\n",
    "    panel_data\n",
    "    .groupBy(\"ano\")\n",
    "    .agg(\n",
    "        F.mean(\"populacao_total\").alias(\"populacao_total\"),\n",
    "        F.mean(\"populacao_feminina\").alias(\"populacao_feminina\"),\n",
    "        F.mean(\"Proporcao_pop_feminina\").alias(\"prop_pop_fem\"),\n",
    "        F.mean(\"eleitoras_mulheres\").alias(\"eleitoras_mulheres\"),\n",
    "        F.mean(\"eleitores_total\").alias(\"eleitores_total\"),\n",
    "        F.mean(\"IDHM\").alias(\"idhm\"),\n",
    "        F.mean(\"IDHM_renda\").alias(\"idhm_renda\"),\n",
    "        F.mean(\"IDHM_educacao\").alias(\"idhm_educacao\"),\n",
    "        F.mean(\"IDHM_longevidade\").alias(\"idhm_longevidade\"),\n",
    "        F.mean(\"homicidios_total\").alias(\"homicidios_total\"),\n",
    "        F.mean(\"feminicidios\").alias(\"feminicidios\")\n",
    "    )\n",
    "    .orderBy(\"ano\")\n",
    "    .toPandas()\n",
    "    .set_index(\"ano\")\n",
    ")\n",
    "\n",
    "# salvar\n",
    "df_ci_spark.write.mode(\"overwrite\").saveAsTable(\"workspace.avaliacao_lei_tse.painel_causal_impact\")\n",
    "\n",
    "# visualizar\n",
    "df_ci = treated.join(controls, how=\"left\").join(explicativas, how=\"left\")"
   ]
  },
  {
   "cell_type": "markdown",
   "metadata": {
    "application/vnd.databricks.v1+cell": {
     "cellMetadata": {},
     "inputWidgets": {},
     "nuid": "7fd5a270-6fe8-45cf-9d62-2d5e962630d9",
     "showTitle": false,
     "tableResultSettingsMap": {},
     "title": ""
    }
   },
   "source": [
    "### O Package causal impact será utilizado no google colab devido a imcompatibilidade com databricks"
   ]
  }
 ],
 "metadata": {
  "application/vnd.databricks.v1+notebook": {
   "computePreferences": null,
   "dashboards": [],
   "environmentMetadata": null,
   "inputWidgetPreferences": null,
   "language": "python",
   "notebookMetadata": {
    "mostRecentlyExecutedCommandWithImplicitDF": {
     "commandId": -1,
     "dataframes": [
      "_sqldf"
     ]
    },
    "pythonIndentUnit": 2
   },
   "notebookName": "Python notebook - Causal Impact",
   "widgets": {}
  },
  "kernelspec": {
   "display_name": "ml310",
   "language": "python",
   "name": "python3"
  },
  "language_info": {
   "codemirror_mode": {
    "name": "ipython",
    "version": 3
   },
   "file_extension": ".py",
   "mimetype": "text/x-python",
   "name": "python",
   "nbconvert_exporter": "python",
   "pygments_lexer": "ipython3",
   "version": "3.10.18"
  }
 },
 "nbformat": 4,
 "nbformat_minor": 0
}
