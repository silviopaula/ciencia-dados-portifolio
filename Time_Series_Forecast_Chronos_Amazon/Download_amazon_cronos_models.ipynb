{
  "cells": [
    {
      "cell_type": "markdown",
      "metadata": {
        "id": "z2SErdob8iBZ"
      },
      "source": [
        "<div align=\"center\">\n",
        "<img src=\"https://raw.githubusercontent.com/amazon-science/chronos-forecasting/main/figures/chronos-logo.png\" width=\"30%\">\n",
        "</div>\n",
        "\n",
        "<div align=\"center\">\n",
        "\n",
        "# Chronos: Download dos Modelos\n",
        "\n",
        "</div>\n",
        "\n",
        "-------------\n"
      ]
    },
    {
      "cell_type": "markdown",
      "metadata": {
        "id": "eUmqMj4N4jn0"
      },
      "source": [
        "### Instalar e carregar bibliotecas"
      ]
    },
    {
      "cell_type": "code",
      "execution_count": null,
      "metadata": {
        "id": "TXEORMSEXeB4"
      },
      "outputs": [],
      "source": [
        "# !pip install --upgrade huggingface_hub chronos-forecasting\n",
        "from huggingface_hub import snapshot_download\n",
        "from pathlib import Path\n",
        "import numpy as np \n",
        "import pandas as pd "
      ]
    },
    {
      "cell_type": "markdown",
      "metadata": {},
      "source": [
        "### Realizar download dos modelos e salvar local"
      ]
    },
    {
      "cell_type": "code",
      "execution_count": null,
      "metadata": {},
      "outputs": [],
      "source": [
        "DEST_DIR = Path(\"D:/OneDrive/Documentos/GitHub/ciencia-dados-portifolio/Time_Series_Forecast_Chronos_Amazon/Models_cronos_amazon/cronos\")  # pasta onde tudo será salvo\n",
        "DEST_DIR.mkdir(parents=True, exist_ok=True)\n",
        "\n",
        "model_ids = [\n",
        "    # Chronos T5\n",
        "    \"amazon/chronos-t5-tiny\",\n",
        "    \"amazon/chronos-t5-mini\",\n",
        "    \"amazon/chronos-t5-small\",\n",
        "    \"amazon/chronos-t5-base\",\n",
        "    \"amazon/chronos-t5-large\",\n",
        "    # Chronos Bolt\n",
        "    \"amazon/chronos-bolt-tiny\",\n",
        "    \"amazon/chronos-bolt-mini\",\n",
        "    \"amazon/chronos-bolt-small\",\n",
        "    \"amazon/chronos-bolt-base\",\n",
        "]\n",
        "\n",
        "local_paths = {}\n",
        "for mid in model_ids:\n",
        "    print(f\"Baixando {mid} ...\")\n",
        "    local_path = snapshot_download(repo_id=mid, local_dir=DEST_DIR / mid.replace(\"/\", \"_\"))\n",
        "    local_paths[mid] = local_path\n",
        "    print(f\"✔ salvo em: {local_path}\")\n",
        "\n",
        "print(\"\\nResumo dos diretórios locais:\")\n",
        "for k, v in local_paths.items():\n",
        "    print(f\"- {k} -> {v}\")"
      ]
    }
  ],
  "metadata": {
    "colab": {
      "provenance": []
    },
    "kernelspec": {
      "display_name": "base",
      "language": "python",
      "name": "python3"
    },
    "language_info": {
      "codemirror_mode": {
        "name": "ipython",
        "version": 3
      },
      "file_extension": ".py",
      "mimetype": "text/x-python",
      "name": "python",
      "nbconvert_exporter": "python",
      "pygments_lexer": "ipython3",
      "version": "3.13.5"
    }
  },
  "nbformat": 4,
  "nbformat_minor": 0
}
